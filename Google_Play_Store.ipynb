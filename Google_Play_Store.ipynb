{
  "nbformat": 4,
  "nbformat_minor": 0,
  "metadata": {
    "colab": {
      "name": "Google_Play_Store.ipynb",
      "provenance": [],
      "collapsed_sections": []
    },
    "kernelspec": {
      "display_name": "Python 3 (system-wide)",
      "language": "python",
      "metadata": {
        "cocalc": {
          "description": "Python 3 programming language",
          "priority": 100,
          "url": "https://www.python.org/"
        }
      },
      "name": "python3"
    },
    "language_info": {
      "codemirror_mode": {
        "name": "ipython",
        "version": 3
      },
      "file_extension": ".py",
      "mimetype": "text/x-python",
      "name": "python",
      "nbconvert_exporter": "python",
      "pygments_lexer": "ipython3",
      "version": "3.6.9"
    }
  },
  "cells": [
    {
      "cell_type": "markdown",
      "metadata": {
        "colab_type": "text",
        "collapsed": false,
        "id": "USsUNlkM7V0a"
      },
      "source": [
        "\n",
        "# Google Play Store Rating Prediction using Machine Learning\n",
        "\n",
        "### Charley Zhao, Raymond Li"
      ]
    },
    {
      "cell_type": "markdown",
      "metadata": {
        "id": "7xmyTUOtg9YG",
        "colab_type": "text"
      },
      "source": [
        "**Overview:**\n",
        "\n",
        "This project explores the domain problem of how a Google Play Store app's rating can be predicted from a selection of other app attributes.\n",
        "\n",
        "The type of machine learning task that this project delves into is supervised regression. As a result, the algorithms that we explore are as follows: Linear Regression, Lasso, and Ridge.\n",
        "\n",
        "**Our findings:**\n",
        "\n",
        "Based on our data cleaning and feature engineering (described below), the Ridge model mildly outperforms the basic Linear Regression model and Lasso model in predicting rating. "
      ]
    },
    {
      "cell_type": "markdown",
      "metadata": {
        "id": "epZ9oFzYhBOl",
        "colab_type": "text"
      },
      "source": [
        "This data set includes information regarding almost 10,000 applications on the google play store. It includes columns such as category, rating, number of reviews, size, etc. It was taken from the kaggle website on this link： https://www.kaggle.com/lava18/google-play-store-apps#googleplaystore.csv"
      ]
    },
    {
      "cell_type": "code",
      "metadata": {
        "colab_type": "code",
        "id": "UT54iJCF78zJ",
        "colab": {}
      },
      "source": [
        "import pandas as pd\n",
        "import matplotlib.pyplot as plt\n",
        "import numpy as np\n",
        "import seaborn as sns\n",
        "import warnings\n",
        "warnings.filterwarnings('ignore')\n",
        "%matplotlib inline"
      ],
      "execution_count": 0,
      "outputs": []
    },
    {
      "cell_type": "markdown",
      "metadata": {
        "collapsed": false,
        "id": "-iF9qk99c4Ug",
        "colab_type": "text"
      },
      "source": [
        "Below is the data as it appears in the original csv file."
      ]
    },
    {
      "cell_type": "code",
      "metadata": {
        "colab_type": "code",
        "id": "KKpwon0H58gy",
        "outputId": "d00227fc-d626-4609-8a45-5eff24df214f",
        "colab": {
          "base_uri": "https://localhost:8080/",
          "height": 374
        }
      },
      "source": [
        "#don't forget to upload googleplaystore.csv and googleplaystore_user_reviews.csv on the left\n",
        "#final cleaned dataframe is \"google5\"\n",
        "google1 = pd.read_csv(\"googleplaystore.csv\")\n",
        "google1.head()"
      ],
      "execution_count": 0,
      "outputs": [
        {
          "output_type": "execute_result",
          "data": {
            "text/html": [
              "<div>\n",
              "<style scoped>\n",
              "    .dataframe tbody tr th:only-of-type {\n",
              "        vertical-align: middle;\n",
              "    }\n",
              "\n",
              "    .dataframe tbody tr th {\n",
              "        vertical-align: top;\n",
              "    }\n",
              "\n",
              "    .dataframe thead th {\n",
              "        text-align: right;\n",
              "    }\n",
              "</style>\n",
              "<table border=\"1\" class=\"dataframe\">\n",
              "  <thead>\n",
              "    <tr style=\"text-align: right;\">\n",
              "      <th></th>\n",
              "      <th>App</th>\n",
              "      <th>Category</th>\n",
              "      <th>Rating</th>\n",
              "      <th>Reviews</th>\n",
              "      <th>Size</th>\n",
              "      <th>Installs</th>\n",
              "      <th>Type</th>\n",
              "      <th>Price</th>\n",
              "      <th>Content Rating</th>\n",
              "      <th>Genres</th>\n",
              "      <th>Last Updated</th>\n",
              "      <th>Current Ver</th>\n",
              "      <th>Android Ver</th>\n",
              "    </tr>\n",
              "  </thead>\n",
              "  <tbody>\n",
              "    <tr>\n",
              "      <th>0</th>\n",
              "      <td>Photo Editor &amp; Candy Camera &amp; Grid &amp; ScrapBook</td>\n",
              "      <td>ART_AND_DESIGN</td>\n",
              "      <td>4.1</td>\n",
              "      <td>159</td>\n",
              "      <td>19M</td>\n",
              "      <td>10,000+</td>\n",
              "      <td>Free</td>\n",
              "      <td>0</td>\n",
              "      <td>Everyone</td>\n",
              "      <td>Art &amp; Design</td>\n",
              "      <td>January 7, 2018</td>\n",
              "      <td>1.0.0</td>\n",
              "      <td>4.0.3 and up</td>\n",
              "    </tr>\n",
              "    <tr>\n",
              "      <th>1</th>\n",
              "      <td>Coloring book moana</td>\n",
              "      <td>ART_AND_DESIGN</td>\n",
              "      <td>3.9</td>\n",
              "      <td>967</td>\n",
              "      <td>14M</td>\n",
              "      <td>500,000+</td>\n",
              "      <td>Free</td>\n",
              "      <td>0</td>\n",
              "      <td>Everyone</td>\n",
              "      <td>Art &amp; Design;Pretend Play</td>\n",
              "      <td>January 15, 2018</td>\n",
              "      <td>2.0.0</td>\n",
              "      <td>4.0.3 and up</td>\n",
              "    </tr>\n",
              "    <tr>\n",
              "      <th>2</th>\n",
              "      <td>U Launcher Lite – FREE Live Cool Themes, Hide ...</td>\n",
              "      <td>ART_AND_DESIGN</td>\n",
              "      <td>4.7</td>\n",
              "      <td>87510</td>\n",
              "      <td>8.7M</td>\n",
              "      <td>5,000,000+</td>\n",
              "      <td>Free</td>\n",
              "      <td>0</td>\n",
              "      <td>Everyone</td>\n",
              "      <td>Art &amp; Design</td>\n",
              "      <td>August 1, 2018</td>\n",
              "      <td>1.2.4</td>\n",
              "      <td>4.0.3 and up</td>\n",
              "    </tr>\n",
              "    <tr>\n",
              "      <th>3</th>\n",
              "      <td>Sketch - Draw &amp; Paint</td>\n",
              "      <td>ART_AND_DESIGN</td>\n",
              "      <td>4.5</td>\n",
              "      <td>215644</td>\n",
              "      <td>25M</td>\n",
              "      <td>50,000,000+</td>\n",
              "      <td>Free</td>\n",
              "      <td>0</td>\n",
              "      <td>Teen</td>\n",
              "      <td>Art &amp; Design</td>\n",
              "      <td>June 8, 2018</td>\n",
              "      <td>Varies with device</td>\n",
              "      <td>4.2 and up</td>\n",
              "    </tr>\n",
              "    <tr>\n",
              "      <th>4</th>\n",
              "      <td>Pixel Draw - Number Art Coloring Book</td>\n",
              "      <td>ART_AND_DESIGN</td>\n",
              "      <td>4.3</td>\n",
              "      <td>967</td>\n",
              "      <td>2.8M</td>\n",
              "      <td>100,000+</td>\n",
              "      <td>Free</td>\n",
              "      <td>0</td>\n",
              "      <td>Everyone</td>\n",
              "      <td>Art &amp; Design;Creativity</td>\n",
              "      <td>June 20, 2018</td>\n",
              "      <td>1.1</td>\n",
              "      <td>4.4 and up</td>\n",
              "    </tr>\n",
              "  </tbody>\n",
              "</table>\n",
              "</div>"
            ],
            "text/plain": [
              "                                                 App  ...   Android Ver\n",
              "0     Photo Editor & Candy Camera & Grid & ScrapBook  ...  4.0.3 and up\n",
              "1                                Coloring book moana  ...  4.0.3 and up\n",
              "2  U Launcher Lite – FREE Live Cool Themes, Hide ...  ...  4.0.3 and up\n",
              "3                              Sketch - Draw & Paint  ...    4.2 and up\n",
              "4              Pixel Draw - Number Art Coloring Book  ...    4.4 and up\n",
              "\n",
              "[5 rows x 13 columns]"
            ]
          },
          "metadata": {
            "tags": []
          },
          "execution_count": 5
        }
      ]
    },
    {
      "cell_type": "code",
      "metadata": {
        "colab_type": "code",
        "id": "klSrd28m8Jln",
        "outputId": "d8c33d7b-0f77-4e17-ee55-f1bb7e395bf7",
        "colab": {
          "base_uri": "https://localhost:8080/",
          "height": 255
        }
      },
      "source": [
        "google1.isna().sum()"
      ],
      "execution_count": 0,
      "outputs": [
        {
          "output_type": "execute_result",
          "data": {
            "text/plain": [
              "App                  0\n",
              "Category             0\n",
              "Rating            1474\n",
              "Reviews              0\n",
              "Size                 0\n",
              "Installs             0\n",
              "Type                 1\n",
              "Price                0\n",
              "Content Rating       1\n",
              "Genres               0\n",
              "Last Updated         0\n",
              "Current Ver          8\n",
              "Android Ver          3\n",
              "dtype: int64"
            ]
          },
          "metadata": {
            "tags": []
          },
          "execution_count": 6
        }
      ]
    },
    {
      "cell_type": "markdown",
      "metadata": {
        "colab_type": "text",
        "collapsed": false,
        "id": "3cadu0T_83lS"
      },
      "source": [
        "### 1. Preprocessing\n",
        "\n",
        "**tl;dr of our data cleaning process:**\n",
        "1. Size - convered to units of MB\n",
        "2. Category, Type, Content Rating, #Installs are convered to one hot encoding\n",
        "3. Genre, Last Update, Current Version, Android Version columns deleted\n",
        "4. Missing Rating values replaced with average rating\n",
        "5. Missing values of any other used column result in that whole row being deleted\n",
        "\n",
        "When we view the first few lines of the data set, there are many things to note.\n",
        "\n",
        "First, the App and Category names may displayed weird syntaxically. But it is displayed consistently, so there is no need for a renaming scheme. The categories column, however, should be one hot encoded since it is a categorical attribute. \n",
        "\n",
        "The size column will be have a renaming structure- we will drop the M, T, etc after the number and instead return the actual number written out. We assume \"M\" is the scraper's representation of \"MB\" when scraping from an older version of the google play store. However, we did find it weird we couldn't find any apps in the gigabytes from scrolling through the dataset. We will use a python function to search for this and replace each value with number*1000 if that is the case. Also, according to the kaggle link, 16% of rows have a \"varies with device\" output for this column. We will replace those with the average size of all the apps.\n",
        "\n",
        "The number of installs is weird as it gives an approximate x+ rather than an exact number. Since the numbers are not linear (ie: categories are 1000+, 10000+, 50000+, 100000+, etc rather than sticking to constant intervals) we've decided it's best do to one hot encoding for this as well and treat it as categorical data.\n",
        "\n",
        "The type and price columns are similar. Because the sample size for each individual dollar amount above 0 is very low, we would rather just compare free/paid then study the change in predicted rating for each dollar increase in price. Therefore, we will get rid of the \"price\" column. We will remove the \"genres\" column, as it is the same thing as the category column.\n",
        "\n",
        "Content rating will also be done with one hot encoding.\n",
        "\n",
        "Regarding the last three columns, latest update, current version, and android version, we initially thought that may give us an insight on how the app lifecycle can influence its ratings. However there were a few flaws with these columns. First, among these three columns, there were way too many rows with the value \"varies with device\"; this is not a quantitative data piece that can be substituted with something. In addition, we don't know the date this data set was scraped (it is based on an android iteration from years ago), so it is meaningless to try to associate any date or version of the apps to a point in the app's lifecycle. Because of this, we decided to drop the last three columns as well.\n",
        "\n",
        "Last, we observe there are many rows with nil values. The ratings can be replaced with the average rating of every app. The row with missing \"type\" and \"content rating\" values will be removed. And the rows with missing \"current version\" and \"android version\" will remain as we are not using those columns anyway."
      ]
    },
    {
      "cell_type": "code",
      "metadata": {
        "colab_type": "code",
        "id": "wUZHoeg7g75l",
        "outputId": "8a58c6a0-0119-4cd7-90be-69903ee7af6e",
        "colab": {
          "base_uri": "https://localhost:8080/",
          "height": 34
        }
      },
      "source": [
        "len(google1)"
      ],
      "execution_count": 0,
      "outputs": [
        {
          "output_type": "execute_result",
          "data": {
            "text/plain": [
              "10841"
            ]
          },
          "metadata": {
            "tags": []
          },
          "execution_count": 7
        }
      ]
    },
    {
      "cell_type": "code",
      "metadata": {
        "colab_type": "code",
        "id": "nrfzZodBBNxC",
        "outputId": "bb7208b8-4948-4792-ab76-281e172e3b3a",
        "colab": {
          "base_uri": "https://localhost:8080/",
          "height": 34
        }
      },
      "source": [
        "google2 = google1.dropna(axis=0, subset=['Type', 'Content Rating'])\n",
        "google3 = google2.rename(columns={\"Content Rating\": \"Content_Rating\"})\n",
        "google3 = google3.drop(google3[google3.Content_Rating == 'Unrated'].index) #elimated the two unknown content ratings\n",
        "len(google3)\n",
        "# asserting the two rows with nil values were dropped (four values dropped in total)"
      ],
      "execution_count": 0,
      "outputs": [
        {
          "output_type": "execute_result",
          "data": {
            "text/plain": [
              "10837"
            ]
          },
          "metadata": {
            "tags": []
          },
          "execution_count": 8
        }
      ]
    },
    {
      "cell_type": "code",
      "metadata": {
        "colab_type": "code",
        "id": "5hDY6-RmsZLV",
        "outputId": "6ab3d37e-fd86-4d09-d333-218d0455f4df",
        "colab": {
          "base_uri": "https://localhost:8080/",
          "height": 34
        }
      },
      "source": [
        "a = len(google3.groupby('Category').size()) #number of genre categories\n",
        "b = len(google3.groupby('Installs').size()) #number of install number groups\n",
        "c = len(google3.groupby('Content_Rating').size()) #number of content rating categories\n",
        "(a, b, c)"
      ],
      "execution_count": 0,
      "outputs": [
        {
          "output_type": "execute_result",
          "data": {
            "text/plain": [
              "(33, 20, 5)"
            ]
          },
          "metadata": {
            "tags": []
          },
          "execution_count": 9
        }
      ]
    },
    {
      "cell_type": "code",
      "metadata": {
        "colab_type": "code",
        "id": "8AwuEMvwOawv",
        "outputId": "f66013cc-33ad-4cfb-bfb1-22c5874a3600",
        "colab": {
          "base_uri": "https://localhost:8080/",
          "height": 459
        }
      },
      "source": [
        "google3.head()"
      ],
      "execution_count": 0,
      "outputs": [
        {
          "output_type": "execute_result",
          "data": {
            "text/html": [
              "<div>\n",
              "<style scoped>\n",
              "    .dataframe tbody tr th:only-of-type {\n",
              "        vertical-align: middle;\n",
              "    }\n",
              "\n",
              "    .dataframe tbody tr th {\n",
              "        vertical-align: top;\n",
              "    }\n",
              "\n",
              "    .dataframe thead th {\n",
              "        text-align: right;\n",
              "    }\n",
              "</style>\n",
              "<table border=\"1\" class=\"dataframe\">\n",
              "  <thead>\n",
              "    <tr style=\"text-align: right;\">\n",
              "      <th></th>\n",
              "      <th>App</th>\n",
              "      <th>Category</th>\n",
              "      <th>Rating</th>\n",
              "      <th>Reviews</th>\n",
              "      <th>Size</th>\n",
              "      <th>Installs</th>\n",
              "      <th>Type</th>\n",
              "      <th>Price</th>\n",
              "      <th>Content_Rating</th>\n",
              "      <th>Genres</th>\n",
              "      <th>Last Updated</th>\n",
              "      <th>Current Ver</th>\n",
              "      <th>Android Ver</th>\n",
              "    </tr>\n",
              "  </thead>\n",
              "  <tbody>\n",
              "    <tr>\n",
              "      <th>0</th>\n",
              "      <td>Photo Editor &amp; Candy Camera &amp; Grid &amp; ScrapBook</td>\n",
              "      <td>ART_AND_DESIGN</td>\n",
              "      <td>4.1</td>\n",
              "      <td>159</td>\n",
              "      <td>19M</td>\n",
              "      <td>10,000+</td>\n",
              "      <td>Free</td>\n",
              "      <td>0</td>\n",
              "      <td>Everyone</td>\n",
              "      <td>Art &amp; Design</td>\n",
              "      <td>January 7, 2018</td>\n",
              "      <td>1.0.0</td>\n",
              "      <td>4.0.3 and up</td>\n",
              "    </tr>\n",
              "    <tr>\n",
              "      <th>1</th>\n",
              "      <td>Coloring book moana</td>\n",
              "      <td>ART_AND_DESIGN</td>\n",
              "      <td>3.9</td>\n",
              "      <td>967</td>\n",
              "      <td>14M</td>\n",
              "      <td>500,000+</td>\n",
              "      <td>Free</td>\n",
              "      <td>0</td>\n",
              "      <td>Everyone</td>\n",
              "      <td>Art &amp; Design;Pretend Play</td>\n",
              "      <td>January 15, 2018</td>\n",
              "      <td>2.0.0</td>\n",
              "      <td>4.0.3 and up</td>\n",
              "    </tr>\n",
              "    <tr>\n",
              "      <th>2</th>\n",
              "      <td>U Launcher Lite – FREE Live Cool Themes, Hide ...</td>\n",
              "      <td>ART_AND_DESIGN</td>\n",
              "      <td>4.7</td>\n",
              "      <td>87510</td>\n",
              "      <td>8.7M</td>\n",
              "      <td>5,000,000+</td>\n",
              "      <td>Free</td>\n",
              "      <td>0</td>\n",
              "      <td>Everyone</td>\n",
              "      <td>Art &amp; Design</td>\n",
              "      <td>August 1, 2018</td>\n",
              "      <td>1.2.4</td>\n",
              "      <td>4.0.3 and up</td>\n",
              "    </tr>\n",
              "    <tr>\n",
              "      <th>3</th>\n",
              "      <td>Sketch - Draw &amp; Paint</td>\n",
              "      <td>ART_AND_DESIGN</td>\n",
              "      <td>4.5</td>\n",
              "      <td>215644</td>\n",
              "      <td>25M</td>\n",
              "      <td>50,000,000+</td>\n",
              "      <td>Free</td>\n",
              "      <td>0</td>\n",
              "      <td>Teen</td>\n",
              "      <td>Art &amp; Design</td>\n",
              "      <td>June 8, 2018</td>\n",
              "      <td>Varies with device</td>\n",
              "      <td>4.2 and up</td>\n",
              "    </tr>\n",
              "    <tr>\n",
              "      <th>4</th>\n",
              "      <td>Pixel Draw - Number Art Coloring Book</td>\n",
              "      <td>ART_AND_DESIGN</td>\n",
              "      <td>4.3</td>\n",
              "      <td>967</td>\n",
              "      <td>2.8M</td>\n",
              "      <td>100,000+</td>\n",
              "      <td>Free</td>\n",
              "      <td>0</td>\n",
              "      <td>Everyone</td>\n",
              "      <td>Art &amp; Design;Creativity</td>\n",
              "      <td>June 20, 2018</td>\n",
              "      <td>1.1</td>\n",
              "      <td>4.4 and up</td>\n",
              "    </tr>\n",
              "  </tbody>\n",
              "</table>\n",
              "</div>"
            ],
            "text/plain": [
              "                                                 App  ...   Android Ver\n",
              "0     Photo Editor & Candy Camera & Grid & ScrapBook  ...  4.0.3 and up\n",
              "1                                Coloring book moana  ...  4.0.3 and up\n",
              "2  U Launcher Lite – FREE Live Cool Themes, Hide ...  ...  4.0.3 and up\n",
              "3                              Sketch - Draw & Paint  ...    4.2 and up\n",
              "4              Pixel Draw - Number Art Coloring Book  ...    4.4 and up\n",
              "\n",
              "[5 rows x 13 columns]"
            ]
          },
          "metadata": {
            "tags": []
          },
          "execution_count": 10
        }
      ]
    },
    {
      "cell_type": "markdown",
      "metadata": {
        "collapsed": false,
        "id": "FuZwRKI9c4VG",
        "colab_type": "text"
      },
      "source": [
        "Here we keep the relevant features."
      ]
    },
    {
      "cell_type": "code",
      "metadata": {
        "colab_type": "code",
        "id": "Er8ptDMVBPTo",
        "outputId": "c1af2a5c-7630-4400-e0ab-6a5f64dad67e",
        "colab": {
          "base_uri": "https://localhost:8080/",
          "height": 204
        }
      },
      "source": [
        "google4 = google3.drop(['Genres', 'Last Updated', 'Current Ver', 'Android Ver', 'Price'], axis=1)\n",
        "google4.head()"
      ],
      "execution_count": 0,
      "outputs": [
        {
          "output_type": "execute_result",
          "data": {
            "text/html": [
              "<div>\n",
              "<style scoped>\n",
              "    .dataframe tbody tr th:only-of-type {\n",
              "        vertical-align: middle;\n",
              "    }\n",
              "\n",
              "    .dataframe tbody tr th {\n",
              "        vertical-align: top;\n",
              "    }\n",
              "\n",
              "    .dataframe thead th {\n",
              "        text-align: right;\n",
              "    }\n",
              "</style>\n",
              "<table border=\"1\" class=\"dataframe\">\n",
              "  <thead>\n",
              "    <tr style=\"text-align: right;\">\n",
              "      <th></th>\n",
              "      <th>App</th>\n",
              "      <th>Category</th>\n",
              "      <th>Rating</th>\n",
              "      <th>Reviews</th>\n",
              "      <th>Size</th>\n",
              "      <th>Installs</th>\n",
              "      <th>Type</th>\n",
              "      <th>Content_Rating</th>\n",
              "    </tr>\n",
              "  </thead>\n",
              "  <tbody>\n",
              "    <tr>\n",
              "      <th>0</th>\n",
              "      <td>Photo Editor &amp; Candy Camera &amp; Grid &amp; ScrapBook</td>\n",
              "      <td>ART_AND_DESIGN</td>\n",
              "      <td>4.1</td>\n",
              "      <td>159</td>\n",
              "      <td>19M</td>\n",
              "      <td>10,000+</td>\n",
              "      <td>Free</td>\n",
              "      <td>Everyone</td>\n",
              "    </tr>\n",
              "    <tr>\n",
              "      <th>1</th>\n",
              "      <td>Coloring book moana</td>\n",
              "      <td>ART_AND_DESIGN</td>\n",
              "      <td>3.9</td>\n",
              "      <td>967</td>\n",
              "      <td>14M</td>\n",
              "      <td>500,000+</td>\n",
              "      <td>Free</td>\n",
              "      <td>Everyone</td>\n",
              "    </tr>\n",
              "    <tr>\n",
              "      <th>2</th>\n",
              "      <td>U Launcher Lite – FREE Live Cool Themes, Hide ...</td>\n",
              "      <td>ART_AND_DESIGN</td>\n",
              "      <td>4.7</td>\n",
              "      <td>87510</td>\n",
              "      <td>8.7M</td>\n",
              "      <td>5,000,000+</td>\n",
              "      <td>Free</td>\n",
              "      <td>Everyone</td>\n",
              "    </tr>\n",
              "    <tr>\n",
              "      <th>3</th>\n",
              "      <td>Sketch - Draw &amp; Paint</td>\n",
              "      <td>ART_AND_DESIGN</td>\n",
              "      <td>4.5</td>\n",
              "      <td>215644</td>\n",
              "      <td>25M</td>\n",
              "      <td>50,000,000+</td>\n",
              "      <td>Free</td>\n",
              "      <td>Teen</td>\n",
              "    </tr>\n",
              "    <tr>\n",
              "      <th>4</th>\n",
              "      <td>Pixel Draw - Number Art Coloring Book</td>\n",
              "      <td>ART_AND_DESIGN</td>\n",
              "      <td>4.3</td>\n",
              "      <td>967</td>\n",
              "      <td>2.8M</td>\n",
              "      <td>100,000+</td>\n",
              "      <td>Free</td>\n",
              "      <td>Everyone</td>\n",
              "    </tr>\n",
              "  </tbody>\n",
              "</table>\n",
              "</div>"
            ],
            "text/plain": [
              "                                                 App  ... Content_Rating\n",
              "0     Photo Editor & Candy Camera & Grid & ScrapBook  ...       Everyone\n",
              "1                                Coloring book moana  ...       Everyone\n",
              "2  U Launcher Lite – FREE Live Cool Themes, Hide ...  ...       Everyone\n",
              "3                              Sketch - Draw & Paint  ...           Teen\n",
              "4              Pixel Draw - Number Art Coloring Book  ...       Everyone\n",
              "\n",
              "[5 rows x 8 columns]"
            ]
          },
          "metadata": {
            "tags": []
          },
          "execution_count": 11
        }
      ]
    },
    {
      "cell_type": "markdown",
      "metadata": {
        "collapsed": false,
        "id": "qo2gmgg9c4VL",
        "colab_type": "text"
      },
      "source": [
        "Checking that there are no apps with a size in the gigabytes."
      ]
    },
    {
      "cell_type": "code",
      "metadata": {
        "colab_type": "code",
        "id": "KLOP7N8LhbUZ",
        "outputId": "5783fb92-aa30-4305-9a50-5d1e138e1d80",
        "colab": {
          "base_uri": "https://localhost:8080/",
          "height": 34
        }
      },
      "source": [
        "def check_g(s):\n",
        "  if 'g' in s or 'G' in s:\n",
        "    return 1\n",
        "  return 0\n",
        "google4[\"giga_check\"] = google4[\"Size\"].apply(lambda x: check_g(x))\n",
        "google4.sum(axis = 0, skipna = True)[8]\n",
        "#there are no sizes in the gigabytes (so no need to multiply any value by 1000)"
      ],
      "execution_count": 0,
      "outputs": [
        {
          "output_type": "execute_result",
          "data": {
            "text/plain": [
              "0"
            ]
          },
          "metadata": {
            "tags": []
          },
          "execution_count": 12
        }
      ]
    },
    {
      "cell_type": "code",
      "metadata": {
        "id": "6F6zMzi-c4VO",
        "colab_type": "code",
        "colab": {}
      },
      "source": [
        "google4 = google4.drop(['giga_check'], axis=1)"
      ],
      "execution_count": 0,
      "outputs": []
    },
    {
      "cell_type": "code",
      "metadata": {
        "colab_type": "code",
        "id": "l9aEonCER-pZ",
        "outputId": "e47ee7f5-2221-4cba-93c3-fb32f81ee826",
        "colab": {
          "base_uri": "https://localhost:8080/",
          "height": 204
        }
      },
      "source": [
        "google4.head()"
      ],
      "execution_count": 0,
      "outputs": [
        {
          "output_type": "execute_result",
          "data": {
            "text/html": [
              "<div>\n",
              "<style scoped>\n",
              "    .dataframe tbody tr th:only-of-type {\n",
              "        vertical-align: middle;\n",
              "    }\n",
              "\n",
              "    .dataframe tbody tr th {\n",
              "        vertical-align: top;\n",
              "    }\n",
              "\n",
              "    .dataframe thead th {\n",
              "        text-align: right;\n",
              "    }\n",
              "</style>\n",
              "<table border=\"1\" class=\"dataframe\">\n",
              "  <thead>\n",
              "    <tr style=\"text-align: right;\">\n",
              "      <th></th>\n",
              "      <th>App</th>\n",
              "      <th>Category</th>\n",
              "      <th>Rating</th>\n",
              "      <th>Reviews</th>\n",
              "      <th>Size</th>\n",
              "      <th>Installs</th>\n",
              "      <th>Type</th>\n",
              "      <th>Content_Rating</th>\n",
              "    </tr>\n",
              "  </thead>\n",
              "  <tbody>\n",
              "    <tr>\n",
              "      <th>0</th>\n",
              "      <td>Photo Editor &amp; Candy Camera &amp; Grid &amp; ScrapBook</td>\n",
              "      <td>ART_AND_DESIGN</td>\n",
              "      <td>4.1</td>\n",
              "      <td>159</td>\n",
              "      <td>19M</td>\n",
              "      <td>10,000+</td>\n",
              "      <td>Free</td>\n",
              "      <td>Everyone</td>\n",
              "    </tr>\n",
              "    <tr>\n",
              "      <th>1</th>\n",
              "      <td>Coloring book moana</td>\n",
              "      <td>ART_AND_DESIGN</td>\n",
              "      <td>3.9</td>\n",
              "      <td>967</td>\n",
              "      <td>14M</td>\n",
              "      <td>500,000+</td>\n",
              "      <td>Free</td>\n",
              "      <td>Everyone</td>\n",
              "    </tr>\n",
              "    <tr>\n",
              "      <th>2</th>\n",
              "      <td>U Launcher Lite – FREE Live Cool Themes, Hide ...</td>\n",
              "      <td>ART_AND_DESIGN</td>\n",
              "      <td>4.7</td>\n",
              "      <td>87510</td>\n",
              "      <td>8.7M</td>\n",
              "      <td>5,000,000+</td>\n",
              "      <td>Free</td>\n",
              "      <td>Everyone</td>\n",
              "    </tr>\n",
              "    <tr>\n",
              "      <th>3</th>\n",
              "      <td>Sketch - Draw &amp; Paint</td>\n",
              "      <td>ART_AND_DESIGN</td>\n",
              "      <td>4.5</td>\n",
              "      <td>215644</td>\n",
              "      <td>25M</td>\n",
              "      <td>50,000,000+</td>\n",
              "      <td>Free</td>\n",
              "      <td>Teen</td>\n",
              "    </tr>\n",
              "    <tr>\n",
              "      <th>4</th>\n",
              "      <td>Pixel Draw - Number Art Coloring Book</td>\n",
              "      <td>ART_AND_DESIGN</td>\n",
              "      <td>4.3</td>\n",
              "      <td>967</td>\n",
              "      <td>2.8M</td>\n",
              "      <td>100,000+</td>\n",
              "      <td>Free</td>\n",
              "      <td>Everyone</td>\n",
              "    </tr>\n",
              "  </tbody>\n",
              "</table>\n",
              "</div>"
            ],
            "text/plain": [
              "                                                 App  ... Content_Rating\n",
              "0     Photo Editor & Candy Camera & Grid & ScrapBook  ...       Everyone\n",
              "1                                Coloring book moana  ...       Everyone\n",
              "2  U Launcher Lite – FREE Live Cool Themes, Hide ...  ...       Everyone\n",
              "3                              Sketch - Draw & Paint  ...           Teen\n",
              "4              Pixel Draw - Number Art Coloring Book  ...       Everyone\n",
              "\n",
              "[5 rows x 8 columns]"
            ]
          },
          "metadata": {
            "tags": []
          },
          "execution_count": 14
        }
      ]
    },
    {
      "cell_type": "markdown",
      "metadata": {
        "collapsed": false,
        "id": "BgWU3JtNc4VT",
        "colab_type": "text"
      },
      "source": [
        "Converting size from a string to float and replacing null values with the average."
      ]
    },
    {
      "cell_type": "code",
      "metadata": {
        "colab_type": "code",
        "id": "tHcbd_10jDUV",
        "outputId": "6fcb2250-1764-423c-b365-5a50f3b5f733",
        "colab": {
          "base_uri": "https://localhost:8080/",
          "height": 204
        }
      },
      "source": [
        "def convert_size1(s):\n",
        "    if s != 'Varies with device':\n",
        "      result_string = ''\n",
        "      *_, unit = s\n",
        "      for digit in _:\n",
        "        result_string = result_string + digit\n",
        "      return float(result_string)\n",
        "\n",
        "google4[\"Size1\"] = google4[\"Size\"].apply(lambda x: convert_size1(x))\n",
        "\n",
        "#average_size = round(google4.mean(axis= 0, skipna = True)[7], 1) #rounded average size of app (37mb)\n",
        "replace_count = google4.apply(lambda x: True if x['Size'] == 'Varies with device' else False , axis=1)\n",
        "replacecount1 = replace_count.value_counts()[1]\n",
        "sample_size = len(google4) - replacecount1\n",
        "average_size = round(google4.sum(axis= 0, skipna = True)[8] / sample_size, 1) #rounded average size of app (37mb)\n",
        "\n",
        "def fill_nil_size(s):\n",
        "    if s > 0:\n",
        "        return s\n",
        "    else:\n",
        "        return average_size\n",
        "google4[\"New_Size\"] = google4[\"Size1\"].apply(lambda x: fill_nil_size(x))\n",
        "\n",
        "google5 = google4.drop(['Size1'], axis=1)\n",
        "google5['Size'] = google5['New_Size']\n",
        "google5 = google5.drop(['New_Size'], axis=1)\n",
        "google5.head()"
      ],
      "execution_count": 0,
      "outputs": [
        {
          "output_type": "execute_result",
          "data": {
            "text/html": [
              "<div>\n",
              "<style scoped>\n",
              "    .dataframe tbody tr th:only-of-type {\n",
              "        vertical-align: middle;\n",
              "    }\n",
              "\n",
              "    .dataframe tbody tr th {\n",
              "        vertical-align: top;\n",
              "    }\n",
              "\n",
              "    .dataframe thead th {\n",
              "        text-align: right;\n",
              "    }\n",
              "</style>\n",
              "<table border=\"1\" class=\"dataframe\">\n",
              "  <thead>\n",
              "    <tr style=\"text-align: right;\">\n",
              "      <th></th>\n",
              "      <th>App</th>\n",
              "      <th>Category</th>\n",
              "      <th>Rating</th>\n",
              "      <th>Reviews</th>\n",
              "      <th>Size</th>\n",
              "      <th>Installs</th>\n",
              "      <th>Type</th>\n",
              "      <th>Content_Rating</th>\n",
              "    </tr>\n",
              "  </thead>\n",
              "  <tbody>\n",
              "    <tr>\n",
              "      <th>0</th>\n",
              "      <td>Photo Editor &amp; Candy Camera &amp; Grid &amp; ScrapBook</td>\n",
              "      <td>ART_AND_DESIGN</td>\n",
              "      <td>4.1</td>\n",
              "      <td>159</td>\n",
              "      <td>19.0</td>\n",
              "      <td>10,000+</td>\n",
              "      <td>Free</td>\n",
              "      <td>Everyone</td>\n",
              "    </tr>\n",
              "    <tr>\n",
              "      <th>1</th>\n",
              "      <td>Coloring book moana</td>\n",
              "      <td>ART_AND_DESIGN</td>\n",
              "      <td>3.9</td>\n",
              "      <td>967</td>\n",
              "      <td>14.0</td>\n",
              "      <td>500,000+</td>\n",
              "      <td>Free</td>\n",
              "      <td>Everyone</td>\n",
              "    </tr>\n",
              "    <tr>\n",
              "      <th>2</th>\n",
              "      <td>U Launcher Lite – FREE Live Cool Themes, Hide ...</td>\n",
              "      <td>ART_AND_DESIGN</td>\n",
              "      <td>4.7</td>\n",
              "      <td>87510</td>\n",
              "      <td>8.7</td>\n",
              "      <td>5,000,000+</td>\n",
              "      <td>Free</td>\n",
              "      <td>Everyone</td>\n",
              "    </tr>\n",
              "    <tr>\n",
              "      <th>3</th>\n",
              "      <td>Sketch - Draw &amp; Paint</td>\n",
              "      <td>ART_AND_DESIGN</td>\n",
              "      <td>4.5</td>\n",
              "      <td>215644</td>\n",
              "      <td>25.0</td>\n",
              "      <td>50,000,000+</td>\n",
              "      <td>Free</td>\n",
              "      <td>Teen</td>\n",
              "    </tr>\n",
              "    <tr>\n",
              "      <th>4</th>\n",
              "      <td>Pixel Draw - Number Art Coloring Book</td>\n",
              "      <td>ART_AND_DESIGN</td>\n",
              "      <td>4.3</td>\n",
              "      <td>967</td>\n",
              "      <td>2.8</td>\n",
              "      <td>100,000+</td>\n",
              "      <td>Free</td>\n",
              "      <td>Everyone</td>\n",
              "    </tr>\n",
              "  </tbody>\n",
              "</table>\n",
              "</div>"
            ],
            "text/plain": [
              "                                                 App  ... Content_Rating\n",
              "0     Photo Editor & Candy Camera & Grid & ScrapBook  ...       Everyone\n",
              "1                                Coloring book moana  ...       Everyone\n",
              "2  U Launcher Lite – FREE Live Cool Themes, Hide ...  ...       Everyone\n",
              "3                              Sketch - Draw & Paint  ...           Teen\n",
              "4              Pixel Draw - Number Art Coloring Book  ...       Everyone\n",
              "\n",
              "[5 rows x 8 columns]"
            ]
          },
          "metadata": {
            "tags": []
          },
          "execution_count": 15
        }
      ]
    },
    {
      "cell_type": "code",
      "metadata": {
        "colab_type": "code",
        "id": "ZvCJ2vu5o4DM",
        "outputId": "94b1df8c-9aac-4c21-822d-c23ff1a11427",
        "colab": {
          "base_uri": "https://localhost:8080/",
          "height": 51
        }
      },
      "source": [
        "#replaces all NaN ratings by 4.2, which is the rounded average rating\n",
        "average_rating = round(google5.mean(axis= 0, skipna = True)[0], 1)\n",
        "google5[\"Rating\"] = google5[\"Rating\"].fillna(average_rating)\n",
        "\n",
        "#Removes ratings below 3.0, these are extreme outliers of the dataset\n",
        "print(google5['Rating'].size)\n",
        "google5 = google5[google5['Rating'] >= 3.0]\n",
        "print(google5['Rating'].size)\n",
        "google5.head()\n",
        "google5['Reviews'] = google5['Reviews'].astype(float)\n"
      ],
      "execution_count": 0,
      "outputs": [
        {
          "output_type": "stream",
          "text": [
            "10837\n",
            "10550\n"
          ],
          "name": "stdout"
        }
      ]
    },
    {
      "cell_type": "code",
      "metadata": {
        "id": "V72LX7rOc4VX",
        "colab_type": "code",
        "outputId": "df1b81ea-b0e1-49f9-db59-765e69b6f926",
        "colab": {
          "base_uri": "https://localhost:8080/",
          "height": 170
        }
      },
      "source": [
        "google5.isna().sum()"
      ],
      "execution_count": 0,
      "outputs": [
        {
          "output_type": "execute_result",
          "data": {
            "text/plain": [
              "App               0\n",
              "Category          0\n",
              "Rating            0\n",
              "Reviews           0\n",
              "Size              0\n",
              "Installs          0\n",
              "Type              0\n",
              "Content_Rating    0\n",
              "dtype: int64"
            ]
          },
          "metadata": {
            "tags": []
          },
          "execution_count": 17
        }
      ]
    },
    {
      "cell_type": "markdown",
      "metadata": {
        "colab_type": "text",
        "collapsed": false,
        "id": "kvSIxCZq_YbG"
      },
      "source": [
        "**Here is what the first few rows of the cleaned dataframe looks like before one hot encoding:**"
      ]
    },
    {
      "cell_type": "code",
      "metadata": {
        "colab_type": "code",
        "id": "ItToYQM3_RJX",
        "outputId": "82e5e5aa-6469-42af-e615-6478bedd602b",
        "colab": {
          "base_uri": "https://localhost:8080/",
          "height": 204
        }
      },
      "source": [
        "google5.head()"
      ],
      "execution_count": 0,
      "outputs": [
        {
          "output_type": "execute_result",
          "data": {
            "text/html": [
              "<div>\n",
              "<style scoped>\n",
              "    .dataframe tbody tr th:only-of-type {\n",
              "        vertical-align: middle;\n",
              "    }\n",
              "\n",
              "    .dataframe tbody tr th {\n",
              "        vertical-align: top;\n",
              "    }\n",
              "\n",
              "    .dataframe thead th {\n",
              "        text-align: right;\n",
              "    }\n",
              "</style>\n",
              "<table border=\"1\" class=\"dataframe\">\n",
              "  <thead>\n",
              "    <tr style=\"text-align: right;\">\n",
              "      <th></th>\n",
              "      <th>App</th>\n",
              "      <th>Category</th>\n",
              "      <th>Rating</th>\n",
              "      <th>Reviews</th>\n",
              "      <th>Size</th>\n",
              "      <th>Installs</th>\n",
              "      <th>Type</th>\n",
              "      <th>Content_Rating</th>\n",
              "    </tr>\n",
              "  </thead>\n",
              "  <tbody>\n",
              "    <tr>\n",
              "      <th>0</th>\n",
              "      <td>Photo Editor &amp; Candy Camera &amp; Grid &amp; ScrapBook</td>\n",
              "      <td>ART_AND_DESIGN</td>\n",
              "      <td>4.1</td>\n",
              "      <td>159.0</td>\n",
              "      <td>19.0</td>\n",
              "      <td>10,000+</td>\n",
              "      <td>Free</td>\n",
              "      <td>Everyone</td>\n",
              "    </tr>\n",
              "    <tr>\n",
              "      <th>1</th>\n",
              "      <td>Coloring book moana</td>\n",
              "      <td>ART_AND_DESIGN</td>\n",
              "      <td>3.9</td>\n",
              "      <td>967.0</td>\n",
              "      <td>14.0</td>\n",
              "      <td>500,000+</td>\n",
              "      <td>Free</td>\n",
              "      <td>Everyone</td>\n",
              "    </tr>\n",
              "    <tr>\n",
              "      <th>2</th>\n",
              "      <td>U Launcher Lite – FREE Live Cool Themes, Hide ...</td>\n",
              "      <td>ART_AND_DESIGN</td>\n",
              "      <td>4.7</td>\n",
              "      <td>87510.0</td>\n",
              "      <td>8.7</td>\n",
              "      <td>5,000,000+</td>\n",
              "      <td>Free</td>\n",
              "      <td>Everyone</td>\n",
              "    </tr>\n",
              "    <tr>\n",
              "      <th>3</th>\n",
              "      <td>Sketch - Draw &amp; Paint</td>\n",
              "      <td>ART_AND_DESIGN</td>\n",
              "      <td>4.5</td>\n",
              "      <td>215644.0</td>\n",
              "      <td>25.0</td>\n",
              "      <td>50,000,000+</td>\n",
              "      <td>Free</td>\n",
              "      <td>Teen</td>\n",
              "    </tr>\n",
              "    <tr>\n",
              "      <th>4</th>\n",
              "      <td>Pixel Draw - Number Art Coloring Book</td>\n",
              "      <td>ART_AND_DESIGN</td>\n",
              "      <td>4.3</td>\n",
              "      <td>967.0</td>\n",
              "      <td>2.8</td>\n",
              "      <td>100,000+</td>\n",
              "      <td>Free</td>\n",
              "      <td>Everyone</td>\n",
              "    </tr>\n",
              "  </tbody>\n",
              "</table>\n",
              "</div>"
            ],
            "text/plain": [
              "                                                 App  ... Content_Rating\n",
              "0     Photo Editor & Candy Camera & Grid & ScrapBook  ...       Everyone\n",
              "1                                Coloring book moana  ...       Everyone\n",
              "2  U Launcher Lite – FREE Live Cool Themes, Hide ...  ...       Everyone\n",
              "3                              Sketch - Draw & Paint  ...           Teen\n",
              "4              Pixel Draw - Number Art Coloring Book  ...       Everyone\n",
              "\n",
              "[5 rows x 8 columns]"
            ]
          },
          "metadata": {
            "tags": []
          },
          "execution_count": 18
        }
      ]
    },
    {
      "cell_type": "markdown",
      "metadata": {
        "colab_type": "text",
        "collapsed": false,
        "id": "wLPE14FMwzC-"
      },
      "source": [
        "### 2. Exploratory Data Analysis:\n",
        "\n",
        "In this section, we will be doing some EDA.\n",
        "\n",
        "After our data cleaning process, we are left with the following columns:\n",
        "1. App\n",
        "2. Category\n",
        "3. Rating (float value out of 5)\n",
        "4. Reviews (float value that shows a count)\n",
        "5. Size (float value in mb)\n",
        "6. Installs (number of installs at the time of the scraping- is technically categorical so ohe will be used)\n",
        "7. Type (free or paid)\n",
        "8. Content Rating\n",
        "\n",
        "Let's take a look as some simple statistics regarding our quantitative attributes."
      ]
    },
    {
      "cell_type": "code",
      "metadata": {
        "scrolled": true,
        "id": "ttOgxKxKc4Vg",
        "colab_type": "code",
        "outputId": "f6f28d56-da77-465a-e09d-165dc44f8b37",
        "colab": {
          "base_uri": "https://localhost:8080/",
          "height": 297
        }
      },
      "source": [
        "google5.describe().round(1)"
      ],
      "execution_count": 0,
      "outputs": [
        {
          "output_type": "execute_result",
          "data": {
            "text/html": [
              "<div>\n",
              "<style scoped>\n",
              "    .dataframe tbody tr th:only-of-type {\n",
              "        vertical-align: middle;\n",
              "    }\n",
              "\n",
              "    .dataframe tbody tr th {\n",
              "        vertical-align: top;\n",
              "    }\n",
              "\n",
              "    .dataframe thead th {\n",
              "        text-align: right;\n",
              "    }\n",
              "</style>\n",
              "<table border=\"1\" class=\"dataframe\">\n",
              "  <thead>\n",
              "    <tr style=\"text-align: right;\">\n",
              "      <th></th>\n",
              "      <th>Rating</th>\n",
              "      <th>Reviews</th>\n",
              "      <th>Size</th>\n",
              "    </tr>\n",
              "  </thead>\n",
              "  <tbody>\n",
              "    <tr>\n",
              "      <th>count</th>\n",
              "      <td>10550.0</td>\n",
              "      <td>10550.0</td>\n",
              "      <td>10550.0</td>\n",
              "    </tr>\n",
              "    <tr>\n",
              "      <th>mean</th>\n",
              "      <td>4.2</td>\n",
              "      <td>456336.1</td>\n",
              "      <td>37.2</td>\n",
              "    </tr>\n",
              "    <tr>\n",
              "      <th>std</th>\n",
              "      <td>0.4</td>\n",
              "      <td>2966795.7</td>\n",
              "      <td>90.7</td>\n",
              "    </tr>\n",
              "    <tr>\n",
              "      <th>min</th>\n",
              "      <td>3.0</td>\n",
              "      <td>0.0</td>\n",
              "      <td>1.0</td>\n",
              "    </tr>\n",
              "    <tr>\n",
              "      <th>25%</th>\n",
              "      <td>4.1</td>\n",
              "      <td>40.0</td>\n",
              "      <td>6.9</td>\n",
              "    </tr>\n",
              "    <tr>\n",
              "      <th>50%</th>\n",
              "      <td>4.2</td>\n",
              "      <td>2486.5</td>\n",
              "      <td>21.0</td>\n",
              "    </tr>\n",
              "    <tr>\n",
              "      <th>75%</th>\n",
              "      <td>4.5</td>\n",
              "      <td>59017.0</td>\n",
              "      <td>37.0</td>\n",
              "    </tr>\n",
              "    <tr>\n",
              "      <th>max</th>\n",
              "      <td>5.0</td>\n",
              "      <td>78158306.0</td>\n",
              "      <td>1020.0</td>\n",
              "    </tr>\n",
              "  </tbody>\n",
              "</table>\n",
              "</div>"
            ],
            "text/plain": [
              "        Rating     Reviews     Size\n",
              "count  10550.0     10550.0  10550.0\n",
              "mean       4.2    456336.1     37.2\n",
              "std        0.4   2966795.7     90.7\n",
              "min        3.0         0.0      1.0\n",
              "25%        4.1        40.0      6.9\n",
              "50%        4.2      2486.5     21.0\n",
              "75%        4.5     59017.0     37.0\n",
              "max        5.0  78158306.0   1020.0"
            ]
          },
          "metadata": {
            "tags": []
          },
          "execution_count": 19
        }
      ]
    },
    {
      "cell_type": "markdown",
      "metadata": {
        "collapsed": false,
        "id": "Xo_WhVivc4Vl",
        "colab_type": "text"
      },
      "source": [
        "As you can see here, there are 10550 unique rows after our data cleaning. The average rating is 4.2, average review count is 456,336.1 and averagesize is 37.2. However the standard deviation of the latter two values are very high relative to the mean, which leads us to question if they are productive attributes in predicting app rating. Based on the maximum values, you can see that there are outliers as well, which goes in line with the previous statement.\n",
        "\n",
        "After a simple statistical review of our attributes, we can perform some EDA to answer the following questions.\n",
        "1. How is rating correlated to the other quantitative attributes?\n",
        "2. How is rating related to the categorical attributes?\n",
        "3. Which individual features have a better role in predicting app rating?\n",
        "4. What are the distributions of the counts of our features?\n",
        "\n",
        "Let's start with #1.\n",
        "\n",
        "**How is rating correlated to the other quantitative attributes?**"
      ]
    },
    {
      "cell_type": "code",
      "metadata": {
        "id": "kNWiDaELc4Vl",
        "colab_type": "code",
        "outputId": "28b000ff-366e-4a95-e6ed-95632ed51490",
        "colab": {
          "base_uri": "https://localhost:8080/",
          "height": 142
        }
      },
      "source": [
        "google5.corr(method='pearson')"
      ],
      "execution_count": 0,
      "outputs": [
        {
          "output_type": "execute_result",
          "data": {
            "text/html": [
              "<div>\n",
              "<style scoped>\n",
              "    .dataframe tbody tr th:only-of-type {\n",
              "        vertical-align: middle;\n",
              "    }\n",
              "\n",
              "    .dataframe tbody tr th {\n",
              "        vertical-align: top;\n",
              "    }\n",
              "\n",
              "    .dataframe thead th {\n",
              "        text-align: right;\n",
              "    }\n",
              "</style>\n",
              "<table border=\"1\" class=\"dataframe\">\n",
              "  <thead>\n",
              "    <tr style=\"text-align: right;\">\n",
              "      <th></th>\n",
              "      <th>Rating</th>\n",
              "      <th>Reviews</th>\n",
              "      <th>Size</th>\n",
              "    </tr>\n",
              "  </thead>\n",
              "  <tbody>\n",
              "    <tr>\n",
              "      <th>Rating</th>\n",
              "      <td>1.000000</td>\n",
              "      <td>0.068477</td>\n",
              "      <td>-0.030563</td>\n",
              "    </tr>\n",
              "    <tr>\n",
              "      <th>Reviews</th>\n",
              "      <td>0.068477</td>\n",
              "      <td>1.000000</td>\n",
              "      <td>0.017262</td>\n",
              "    </tr>\n",
              "    <tr>\n",
              "      <th>Size</th>\n",
              "      <td>-0.030563</td>\n",
              "      <td>0.017262</td>\n",
              "      <td>1.000000</td>\n",
              "    </tr>\n",
              "  </tbody>\n",
              "</table>\n",
              "</div>"
            ],
            "text/plain": [
              "           Rating   Reviews      Size\n",
              "Rating   1.000000  0.068477 -0.030563\n",
              "Reviews  0.068477  1.000000  0.017262\n",
              "Size    -0.030563  0.017262  1.000000"
            ]
          },
          "metadata": {
            "tags": []
          },
          "execution_count": 20
        }
      ]
    },
    {
      "cell_type": "markdown",
      "metadata": {
        "collapsed": false,
        "id": "qQhNme2Gc4Vr",
        "colab_type": "text"
      },
      "source": [
        "After running the pearson correlation coeffcient matrix, we find number of reviews has a slight positive impact on the app rating and a slight negative impact on size. However, all values are so much closer to 0 than 1 that no meaningful insight can come out of this.\n",
        "\n",
        "Moving on to #2.\n",
        "\n",
        "**How is rating related to the categorical attributes?**"
      ]
    },
    {
      "cell_type": "code",
      "metadata": {
        "scrolled": true,
        "id": "vfLKHY6ac4Vs",
        "colab_type": "code",
        "outputId": "05fa0f6c-a4da-491e-f0e9-1d75774ae276",
        "colab": {
          "base_uri": "https://localhost:8080/",
          "height": 1000
        }
      },
      "source": [
        "#example of how to view data description grouped by categorical attribute\n",
        "google5.groupby(['Category']).describe().round(1)"
      ],
      "execution_count": 0,
      "outputs": [
        {
          "output_type": "execute_result",
          "data": {
            "text/html": [
              "<div>\n",
              "<style scoped>\n",
              "    .dataframe tbody tr th:only-of-type {\n",
              "        vertical-align: middle;\n",
              "    }\n",
              "\n",
              "    .dataframe tbody tr th {\n",
              "        vertical-align: top;\n",
              "    }\n",
              "\n",
              "    .dataframe thead tr th {\n",
              "        text-align: left;\n",
              "    }\n",
              "\n",
              "    .dataframe thead tr:last-of-type th {\n",
              "        text-align: right;\n",
              "    }\n",
              "</style>\n",
              "<table border=\"1\" class=\"dataframe\">\n",
              "  <thead>\n",
              "    <tr>\n",
              "      <th></th>\n",
              "      <th colspan=\"8\" halign=\"left\">Rating</th>\n",
              "      <th colspan=\"8\" halign=\"left\">Reviews</th>\n",
              "      <th colspan=\"8\" halign=\"left\">Size</th>\n",
              "    </tr>\n",
              "    <tr>\n",
              "      <th></th>\n",
              "      <th>count</th>\n",
              "      <th>mean</th>\n",
              "      <th>std</th>\n",
              "      <th>min</th>\n",
              "      <th>25%</th>\n",
              "      <th>50%</th>\n",
              "      <th>75%</th>\n",
              "      <th>max</th>\n",
              "      <th>count</th>\n",
              "      <th>mean</th>\n",
              "      <th>std</th>\n",
              "      <th>min</th>\n",
              "      <th>25%</th>\n",
              "      <th>50%</th>\n",
              "      <th>75%</th>\n",
              "      <th>max</th>\n",
              "      <th>count</th>\n",
              "      <th>mean</th>\n",
              "      <th>std</th>\n",
              "      <th>min</th>\n",
              "      <th>25%</th>\n",
              "      <th>50%</th>\n",
              "      <th>75%</th>\n",
              "      <th>max</th>\n",
              "    </tr>\n",
              "    <tr>\n",
              "      <th>Category</th>\n",
              "      <th></th>\n",
              "      <th></th>\n",
              "      <th></th>\n",
              "      <th></th>\n",
              "      <th></th>\n",
              "      <th></th>\n",
              "      <th></th>\n",
              "      <th></th>\n",
              "      <th></th>\n",
              "      <th></th>\n",
              "      <th></th>\n",
              "      <th></th>\n",
              "      <th></th>\n",
              "      <th></th>\n",
              "      <th></th>\n",
              "      <th></th>\n",
              "      <th></th>\n",
              "      <th></th>\n",
              "      <th></th>\n",
              "      <th></th>\n",
              "      <th></th>\n",
              "      <th></th>\n",
              "      <th></th>\n",
              "      <th></th>\n",
              "    </tr>\n",
              "  </thead>\n",
              "  <tbody>\n",
              "    <tr>\n",
              "      <th>ART_AND_DESIGN</th>\n",
              "      <td>65.0</td>\n",
              "      <td>4.4</td>\n",
              "      <td>0.4</td>\n",
              "      <td>3.2</td>\n",
              "      <td>4.1</td>\n",
              "      <td>4.4</td>\n",
              "      <td>4.7</td>\n",
              "      <td>5.0</td>\n",
              "      <td>65.0</td>\n",
              "      <td>26376.0</td>\n",
              "      <td>69328.0</td>\n",
              "      <td>0.0</td>\n",
              "      <td>136.0</td>\n",
              "      <td>564.0</td>\n",
              "      <td>5754.0</td>\n",
              "      <td>295237.0</td>\n",
              "      <td>65.0</td>\n",
              "      <td>13.5</td>\n",
              "      <td>10.9</td>\n",
              "      <td>1.2</td>\n",
              "      <td>4.6</td>\n",
              "      <td>9.2</td>\n",
              "      <td>21.0</td>\n",
              "      <td>39.0</td>\n",
              "    </tr>\n",
              "    <tr>\n",
              "      <th>AUTO_AND_VEHICLES</th>\n",
              "      <td>83.0</td>\n",
              "      <td>4.2</td>\n",
              "      <td>0.4</td>\n",
              "      <td>3.0</td>\n",
              "      <td>4.0</td>\n",
              "      <td>4.2</td>\n",
              "      <td>4.6</td>\n",
              "      <td>4.9</td>\n",
              "      <td>83.0</td>\n",
              "      <td>14019.0</td>\n",
              "      <td>43879.3</td>\n",
              "      <td>0.0</td>\n",
              "      <td>23.5</td>\n",
              "      <td>356.0</td>\n",
              "      <td>4473.0</td>\n",
              "      <td>271920.0</td>\n",
              "      <td>83.0</td>\n",
              "      <td>35.5</td>\n",
              "      <td>98.3</td>\n",
              "      <td>1.1</td>\n",
              "      <td>6.4</td>\n",
              "      <td>18.0</td>\n",
              "      <td>37.0</td>\n",
              "      <td>885.0</td>\n",
              "    </tr>\n",
              "    <tr>\n",
              "      <th>BEAUTY</th>\n",
              "      <td>53.0</td>\n",
              "      <td>4.3</td>\n",
              "      <td>0.3</td>\n",
              "      <td>3.1</td>\n",
              "      <td>4.1</td>\n",
              "      <td>4.2</td>\n",
              "      <td>4.5</td>\n",
              "      <td>4.9</td>\n",
              "      <td>53.0</td>\n",
              "      <td>7476.2</td>\n",
              "      <td>19094.7</td>\n",
              "      <td>0.0</td>\n",
              "      <td>36.0</td>\n",
              "      <td>187.0</td>\n",
              "      <td>3595.0</td>\n",
              "      <td>113715.0</td>\n",
              "      <td>53.0</td>\n",
              "      <td>16.4</td>\n",
              "      <td>14.3</td>\n",
              "      <td>2.2</td>\n",
              "      <td>4.2</td>\n",
              "      <td>12.0</td>\n",
              "      <td>24.0</td>\n",
              "      <td>57.0</td>\n",
              "    </tr>\n",
              "    <tr>\n",
              "      <th>BOOKS_AND_REFERENCE</th>\n",
              "      <td>230.0</td>\n",
              "      <td>4.3</td>\n",
              "      <td>0.4</td>\n",
              "      <td>3.1</td>\n",
              "      <td>4.2</td>\n",
              "      <td>4.3</td>\n",
              "      <td>4.6</td>\n",
              "      <td>5.0</td>\n",
              "      <td>230.0</td>\n",
              "      <td>95473.9</td>\n",
              "      <td>353919.8</td>\n",
              "      <td>0.0</td>\n",
              "      <td>10.0</td>\n",
              "      <td>226.5</td>\n",
              "      <td>19087.5</td>\n",
              "      <td>2915189.0</td>\n",
              "      <td>230.0</td>\n",
              "      <td>39.7</td>\n",
              "      <td>129.2</td>\n",
              "      <td>1.4</td>\n",
              "      <td>5.0</td>\n",
              "      <td>10.0</td>\n",
              "      <td>36.5</td>\n",
              "      <td>970.0</td>\n",
              "    </tr>\n",
              "    <tr>\n",
              "      <th>BUSINESS</th>\n",
              "      <td>443.0</td>\n",
              "      <td>4.2</td>\n",
              "      <td>0.4</td>\n",
              "      <td>3.0</td>\n",
              "      <td>4.2</td>\n",
              "      <td>4.2</td>\n",
              "      <td>4.4</td>\n",
              "      <td>5.0</td>\n",
              "      <td>443.0</td>\n",
              "      <td>31478.6</td>\n",
              "      <td>144383.3</td>\n",
              "      <td>0.0</td>\n",
              "      <td>2.0</td>\n",
              "      <td>24.0</td>\n",
              "      <td>4159.0</td>\n",
              "      <td>1279800.0</td>\n",
              "      <td>443.0</td>\n",
              "      <td>28.5</td>\n",
              "      <td>89.9</td>\n",
              "      <td>1.1</td>\n",
              "      <td>5.3</td>\n",
              "      <td>12.0</td>\n",
              "      <td>30.0</td>\n",
              "      <td>976.0</td>\n",
              "    </tr>\n",
              "    <tr>\n",
              "      <th>COMICS</th>\n",
              "      <td>59.0</td>\n",
              "      <td>4.2</td>\n",
              "      <td>0.5</td>\n",
              "      <td>3.0</td>\n",
              "      <td>3.9</td>\n",
              "      <td>4.4</td>\n",
              "      <td>4.5</td>\n",
              "      <td>5.0</td>\n",
              "      <td>59.0</td>\n",
              "      <td>57343.6</td>\n",
              "      <td>197411.7</td>\n",
              "      <td>1.0</td>\n",
              "      <td>296.5</td>\n",
              "      <td>1677.0</td>\n",
              "      <td>20682.5</td>\n",
              "      <td>1013944.0</td>\n",
              "      <td>59.0</td>\n",
              "      <td>35.1</td>\n",
              "      <td>95.0</td>\n",
              "      <td>2.2</td>\n",
              "      <td>6.6</td>\n",
              "      <td>15.0</td>\n",
              "      <td>34.5</td>\n",
              "      <td>609.0</td>\n",
              "    </tr>\n",
              "    <tr>\n",
              "      <th>COMMUNICATION</th>\n",
              "      <td>381.0</td>\n",
              "      <td>4.2</td>\n",
              "      <td>0.3</td>\n",
              "      <td>3.0</td>\n",
              "      <td>4.1</td>\n",
              "      <td>4.2</td>\n",
              "      <td>4.4</td>\n",
              "      <td>5.0</td>\n",
              "      <td>381.0</td>\n",
              "      <td>2140318.3</td>\n",
              "      <td>8249792.9</td>\n",
              "      <td>0.0</td>\n",
              "      <td>33.0</td>\n",
              "      <td>21186.0</td>\n",
              "      <td>483565.0</td>\n",
              "      <td>69119316.0</td>\n",
              "      <td>381.0</td>\n",
              "      <td>50.4</td>\n",
              "      <td>132.3</td>\n",
              "      <td>1.1</td>\n",
              "      <td>5.4</td>\n",
              "      <td>22.0</td>\n",
              "      <td>37.0</td>\n",
              "      <td>961.0</td>\n",
              "    </tr>\n",
              "    <tr>\n",
              "      <th>DATING</th>\n",
              "      <td>220.0</td>\n",
              "      <td>4.1</td>\n",
              "      <td>0.4</td>\n",
              "      <td>3.0</td>\n",
              "      <td>4.0</td>\n",
              "      <td>4.2</td>\n",
              "      <td>4.3</td>\n",
              "      <td>5.0</td>\n",
              "      <td>220.0</td>\n",
              "      <td>33077.4</td>\n",
              "      <td>84614.0</td>\n",
              "      <td>0.0</td>\n",
              "      <td>20.8</td>\n",
              "      <td>1076.0</td>\n",
              "      <td>12736.2</td>\n",
              "      <td>516917.0</td>\n",
              "      <td>220.0</td>\n",
              "      <td>19.1</td>\n",
              "      <td>15.3</td>\n",
              "      <td>1.2</td>\n",
              "      <td>6.1</td>\n",
              "      <td>14.0</td>\n",
              "      <td>28.0</td>\n",
              "      <td>77.0</td>\n",
              "    </tr>\n",
              "    <tr>\n",
              "      <th>EDUCATION</th>\n",
              "      <td>156.0</td>\n",
              "      <td>4.4</td>\n",
              "      <td>0.3</td>\n",
              "      <td>3.5</td>\n",
              "      <td>4.2</td>\n",
              "      <td>4.4</td>\n",
              "      <td>4.6</td>\n",
              "      <td>4.9</td>\n",
              "      <td>156.0</td>\n",
              "      <td>253819.1</td>\n",
              "      <td>999787.4</td>\n",
              "      <td>11.0</td>\n",
              "      <td>3785.0</td>\n",
              "      <td>30532.5</td>\n",
              "      <td>144111.2</td>\n",
              "      <td>6290507.0</td>\n",
              "      <td>156.0</td>\n",
              "      <td>32.4</td>\n",
              "      <td>60.9</td>\n",
              "      <td>1.2</td>\n",
              "      <td>11.0</td>\n",
              "      <td>21.0</td>\n",
              "      <td>37.0</td>\n",
              "      <td>556.0</td>\n",
              "    </tr>\n",
              "    <tr>\n",
              "      <th>ENTERTAINMENT</th>\n",
              "      <td>149.0</td>\n",
              "      <td>4.1</td>\n",
              "      <td>0.3</td>\n",
              "      <td>3.0</td>\n",
              "      <td>3.9</td>\n",
              "      <td>4.2</td>\n",
              "      <td>4.3</td>\n",
              "      <td>4.7</td>\n",
              "      <td>149.0</td>\n",
              "      <td>397168.8</td>\n",
              "      <td>1130187.8</td>\n",
              "      <td>303.0</td>\n",
              "      <td>18523.0</td>\n",
              "      <td>58082.0</td>\n",
              "      <td>288150.0</td>\n",
              "      <td>7165362.0</td>\n",
              "      <td>149.0</td>\n",
              "      <td>27.9</td>\n",
              "      <td>14.4</td>\n",
              "      <td>3.3</td>\n",
              "      <td>17.0</td>\n",
              "      <td>32.0</td>\n",
              "      <td>37.0</td>\n",
              "      <td>78.0</td>\n",
              "    </tr>\n",
              "    <tr>\n",
              "      <th>EVENTS</th>\n",
              "      <td>63.0</td>\n",
              "      <td>4.4</td>\n",
              "      <td>0.3</td>\n",
              "      <td>3.7</td>\n",
              "      <td>4.2</td>\n",
              "      <td>4.3</td>\n",
              "      <td>4.6</td>\n",
              "      <td>5.0</td>\n",
              "      <td>63.0</td>\n",
              "      <td>2555.7</td>\n",
              "      <td>6785.0</td>\n",
              "      <td>0.0</td>\n",
              "      <td>5.5</td>\n",
              "      <td>48.0</td>\n",
              "      <td>938.0</td>\n",
              "      <td>40113.0</td>\n",
              "      <td>63.0</td>\n",
              "      <td>21.5</td>\n",
              "      <td>42.4</td>\n",
              "      <td>1.1</td>\n",
              "      <td>4.8</td>\n",
              "      <td>11.0</td>\n",
              "      <td>26.5</td>\n",
              "      <td>334.0</td>\n",
              "    </tr>\n",
              "    <tr>\n",
              "      <th>FAMILY</th>\n",
              "      <td>1927.0</td>\n",
              "      <td>4.2</td>\n",
              "      <td>0.4</td>\n",
              "      <td>3.0</td>\n",
              "      <td>4.1</td>\n",
              "      <td>4.2</td>\n",
              "      <td>4.5</td>\n",
              "      <td>5.0</td>\n",
              "      <td>1927.0</td>\n",
              "      <td>212792.3</td>\n",
              "      <td>1517657.1</td>\n",
              "      <td>0.0</td>\n",
              "      <td>32.0</td>\n",
              "      <td>1031.0</td>\n",
              "      <td>29023.5</td>\n",
              "      <td>44881447.0</td>\n",
              "      <td>1927.0</td>\n",
              "      <td>37.9</td>\n",
              "      <td>79.9</td>\n",
              "      <td>1.0</td>\n",
              "      <td>8.0</td>\n",
              "      <td>25.0</td>\n",
              "      <td>44.0</td>\n",
              "      <td>1020.0</td>\n",
              "    </tr>\n",
              "    <tr>\n",
              "      <th>FINANCE</th>\n",
              "      <td>345.0</td>\n",
              "      <td>4.3</td>\n",
              "      <td>0.4</td>\n",
              "      <td>3.0</td>\n",
              "      <td>4.1</td>\n",
              "      <td>4.3</td>\n",
              "      <td>4.5</td>\n",
              "      <td>5.0</td>\n",
              "      <td>345.0</td>\n",
              "      <td>50862.5</td>\n",
              "      <td>156079.8</td>\n",
              "      <td>0.0</td>\n",
              "      <td>49.0</td>\n",
              "      <td>800.0</td>\n",
              "      <td>22808.0</td>\n",
              "      <td>1374549.0</td>\n",
              "      <td>345.0</td>\n",
              "      <td>31.0</td>\n",
              "      <td>86.8</td>\n",
              "      <td>1.1</td>\n",
              "      <td>5.8</td>\n",
              "      <td>17.0</td>\n",
              "      <td>37.0</td>\n",
              "      <td>965.0</td>\n",
              "    </tr>\n",
              "    <tr>\n",
              "      <th>FOOD_AND_DRINK</th>\n",
              "      <td>124.0</td>\n",
              "      <td>4.2</td>\n",
              "      <td>0.4</td>\n",
              "      <td>3.1</td>\n",
              "      <td>4.1</td>\n",
              "      <td>4.2</td>\n",
              "      <td>4.5</td>\n",
              "      <td>5.0</td>\n",
              "      <td>124.0</td>\n",
              "      <td>71638.3</td>\n",
              "      <td>171049.3</td>\n",
              "      <td>0.0</td>\n",
              "      <td>321.5</td>\n",
              "      <td>8051.0</td>\n",
              "      <td>47783.5</td>\n",
              "      <td>1032935.0</td>\n",
              "      <td>124.0</td>\n",
              "      <td>25.7</td>\n",
              "      <td>14.8</td>\n",
              "      <td>1.7</td>\n",
              "      <td>13.0</td>\n",
              "      <td>25.0</td>\n",
              "      <td>37.0</td>\n",
              "      <td>76.0</td>\n",
              "    </tr>\n",
              "    <tr>\n",
              "      <th>GAME</th>\n",
              "      <td>1136.0</td>\n",
              "      <td>4.3</td>\n",
              "      <td>0.3</td>\n",
              "      <td>3.0</td>\n",
              "      <td>4.2</td>\n",
              "      <td>4.3</td>\n",
              "      <td>4.5</td>\n",
              "      <td>5.0</td>\n",
              "      <td>1136.0</td>\n",
              "      <td>1395616.2</td>\n",
              "      <td>4173909.0</td>\n",
              "      <td>0.0</td>\n",
              "      <td>2697.8</td>\n",
              "      <td>59511.5</td>\n",
              "      <td>655086.5</td>\n",
              "      <td>44893888.0</td>\n",
              "      <td>1136.0</td>\n",
              "      <td>45.0</td>\n",
              "      <td>37.0</td>\n",
              "      <td>1.1</td>\n",
              "      <td>24.0</td>\n",
              "      <td>37.0</td>\n",
              "      <td>61.2</td>\n",
              "      <td>691.0</td>\n",
              "    </tr>\n",
              "    <tr>\n",
              "      <th>HEALTH_AND_FITNESS</th>\n",
              "      <td>321.0</td>\n",
              "      <td>4.4</td>\n",
              "      <td>0.3</td>\n",
              "      <td>3.0</td>\n",
              "      <td>4.2</td>\n",
              "      <td>4.4</td>\n",
              "      <td>4.6</td>\n",
              "      <td>5.0</td>\n",
              "      <td>321.0</td>\n",
              "      <td>118022.2</td>\n",
              "      <td>367280.9</td>\n",
              "      <td>0.0</td>\n",
              "      <td>143.0</td>\n",
              "      <td>11506.0</td>\n",
              "      <td>70769.0</td>\n",
              "      <td>4559407.0</td>\n",
              "      <td>321.0</td>\n",
              "      <td>39.5</td>\n",
              "      <td>99.4</td>\n",
              "      <td>1.2</td>\n",
              "      <td>8.8</td>\n",
              "      <td>28.0</td>\n",
              "      <td>37.0</td>\n",
              "      <td>992.0</td>\n",
              "    </tr>\n",
              "    <tr>\n",
              "      <th>HOUSE_AND_HOME</th>\n",
              "      <td>87.0</td>\n",
              "      <td>4.2</td>\n",
              "      <td>0.3</td>\n",
              "      <td>3.4</td>\n",
              "      <td>4.0</td>\n",
              "      <td>4.2</td>\n",
              "      <td>4.5</td>\n",
              "      <td>4.8</td>\n",
              "      <td>87.0</td>\n",
              "      <td>45705.5</td>\n",
              "      <td>98336.5</td>\n",
              "      <td>0.0</td>\n",
              "      <td>662.0</td>\n",
              "      <td>4450.0</td>\n",
              "      <td>36857.0</td>\n",
              "      <td>417907.0</td>\n",
              "      <td>87.0</td>\n",
              "      <td>28.4</td>\n",
              "      <td>70.0</td>\n",
              "      <td>1.9</td>\n",
              "      <td>7.6</td>\n",
              "      <td>16.0</td>\n",
              "      <td>37.0</td>\n",
              "      <td>656.0</td>\n",
              "    </tr>\n",
              "    <tr>\n",
              "      <th>LIBRARIES_AND_DEMO</th>\n",
              "      <td>85.0</td>\n",
              "      <td>4.2</td>\n",
              "      <td>0.3</td>\n",
              "      <td>3.1</td>\n",
              "      <td>4.1</td>\n",
              "      <td>4.2</td>\n",
              "      <td>4.4</td>\n",
              "      <td>5.0</td>\n",
              "      <td>85.0</td>\n",
              "      <td>12201.4</td>\n",
              "      <td>43736.4</td>\n",
              "      <td>0.0</td>\n",
              "      <td>31.0</td>\n",
              "      <td>131.0</td>\n",
              "      <td>2087.0</td>\n",
              "      <td>332083.0</td>\n",
              "      <td>85.0</td>\n",
              "      <td>175.8</td>\n",
              "      <td>259.1</td>\n",
              "      <td>1.2</td>\n",
              "      <td>7.0</td>\n",
              "      <td>22.0</td>\n",
              "      <td>335.0</td>\n",
              "      <td>860.0</td>\n",
              "    </tr>\n",
              "    <tr>\n",
              "      <th>LIFESTYLE</th>\n",
              "      <td>359.0</td>\n",
              "      <td>4.2</td>\n",
              "      <td>0.5</td>\n",
              "      <td>3.0</td>\n",
              "      <td>4.0</td>\n",
              "      <td>4.2</td>\n",
              "      <td>4.5</td>\n",
              "      <td>5.0</td>\n",
              "      <td>359.0</td>\n",
              "      <td>35832.2</td>\n",
              "      <td>188212.1</td>\n",
              "      <td>0.0</td>\n",
              "      <td>9.5</td>\n",
              "      <td>275.0</td>\n",
              "      <td>7047.5</td>\n",
              "      <td>2789775.0</td>\n",
              "      <td>359.0</td>\n",
              "      <td>32.5</td>\n",
              "      <td>103.1</td>\n",
              "      <td>1.0</td>\n",
              "      <td>5.0</td>\n",
              "      <td>12.0</td>\n",
              "      <td>28.0</td>\n",
              "      <td>939.0</td>\n",
              "    </tr>\n",
              "    <tr>\n",
              "      <th>MAPS_AND_NAVIGATION</th>\n",
              "      <td>131.0</td>\n",
              "      <td>4.1</td>\n",
              "      <td>0.4</td>\n",
              "      <td>3.0</td>\n",
              "      <td>3.9</td>\n",
              "      <td>4.2</td>\n",
              "      <td>4.4</td>\n",
              "      <td>4.9</td>\n",
              "      <td>131.0</td>\n",
              "      <td>234019.7</td>\n",
              "      <td>1072320.6</td>\n",
              "      <td>0.0</td>\n",
              "      <td>62.5</td>\n",
              "      <td>3652.0</td>\n",
              "      <td>43260.5</td>\n",
              "      <td>7232629.0</td>\n",
              "      <td>131.0</td>\n",
              "      <td>33.5</td>\n",
              "      <td>87.5</td>\n",
              "      <td>1.3</td>\n",
              "      <td>6.5</td>\n",
              "      <td>20.0</td>\n",
              "      <td>37.0</td>\n",
              "      <td>749.0</td>\n",
              "    </tr>\n",
              "    <tr>\n",
              "      <th>MEDICAL</th>\n",
              "      <td>443.0</td>\n",
              "      <td>4.3</td>\n",
              "      <td>0.4</td>\n",
              "      <td>3.0</td>\n",
              "      <td>4.2</td>\n",
              "      <td>4.2</td>\n",
              "      <td>4.5</td>\n",
              "      <td>5.0</td>\n",
              "      <td>443.0</td>\n",
              "      <td>3564.3</td>\n",
              "      <td>14638.4</td>\n",
              "      <td>0.0</td>\n",
              "      <td>3.0</td>\n",
              "      <td>34.0</td>\n",
              "      <td>497.5</td>\n",
              "      <td>156410.0</td>\n",
              "      <td>443.0</td>\n",
              "      <td>43.1</td>\n",
              "      <td>128.2</td>\n",
              "      <td>1.2</td>\n",
              "      <td>6.5</td>\n",
              "      <td>19.0</td>\n",
              "      <td>33.5</td>\n",
              "      <td>980.0</td>\n",
              "    </tr>\n",
              "    <tr>\n",
              "      <th>NEWS_AND_MAGAZINES</th>\n",
              "      <td>273.0</td>\n",
              "      <td>4.2</td>\n",
              "      <td>0.4</td>\n",
              "      <td>3.0</td>\n",
              "      <td>4.0</td>\n",
              "      <td>4.2</td>\n",
              "      <td>4.4</td>\n",
              "      <td>5.0</td>\n",
              "      <td>273.0</td>\n",
              "      <td>199255.0</td>\n",
              "      <td>1226409.7</td>\n",
              "      <td>0.0</td>\n",
              "      <td>33.0</td>\n",
              "      <td>1137.0</td>\n",
              "      <td>44274.0</td>\n",
              "      <td>11667403.0</td>\n",
              "      <td>273.0</td>\n",
              "      <td>19.9</td>\n",
              "      <td>21.0</td>\n",
              "      <td>1.0</td>\n",
              "      <td>6.3</td>\n",
              "      <td>14.0</td>\n",
              "      <td>37.0</td>\n",
              "      <td>280.0</td>\n",
              "    </tr>\n",
              "    <tr>\n",
              "      <th>PARENTING</th>\n",
              "      <td>59.0</td>\n",
              "      <td>4.3</td>\n",
              "      <td>0.4</td>\n",
              "      <td>3.1</td>\n",
              "      <td>4.1</td>\n",
              "      <td>4.4</td>\n",
              "      <td>4.6</td>\n",
              "      <td>5.0</td>\n",
              "      <td>59.0</td>\n",
              "      <td>16242.5</td>\n",
              "      <td>86058.0</td>\n",
              "      <td>1.0</td>\n",
              "      <td>72.5</td>\n",
              "      <td>559.0</td>\n",
              "      <td>3701.5</td>\n",
              "      <td>658087.0</td>\n",
              "      <td>59.0</td>\n",
              "      <td>23.7</td>\n",
              "      <td>24.8</td>\n",
              "      <td>1.5</td>\n",
              "      <td>5.6</td>\n",
              "      <td>15.0</td>\n",
              "      <td>37.0</td>\n",
              "      <td>98.0</td>\n",
              "    </tr>\n",
              "    <tr>\n",
              "      <th>PERSONALIZATION</th>\n",
              "      <td>391.0</td>\n",
              "      <td>4.3</td>\n",
              "      <td>0.3</td>\n",
              "      <td>3.0</td>\n",
              "      <td>4.2</td>\n",
              "      <td>4.3</td>\n",
              "      <td>4.5</td>\n",
              "      <td>5.0</td>\n",
              "      <td>391.0</td>\n",
              "      <td>228506.7</td>\n",
              "      <td>991355.2</td>\n",
              "      <td>0.0</td>\n",
              "      <td>12.0</td>\n",
              "      <td>292.0</td>\n",
              "      <td>29004.5</td>\n",
              "      <td>7464996.0</td>\n",
              "      <td>391.0</td>\n",
              "      <td>41.6</td>\n",
              "      <td>130.3</td>\n",
              "      <td>1.1</td>\n",
              "      <td>4.5</td>\n",
              "      <td>11.0</td>\n",
              "      <td>25.0</td>\n",
              "      <td>963.0</td>\n",
              "    </tr>\n",
              "    <tr>\n",
              "      <th>PHOTOGRAPHY</th>\n",
              "      <td>324.0</td>\n",
              "      <td>4.2</td>\n",
              "      <td>0.3</td>\n",
              "      <td>3.0</td>\n",
              "      <td>4.1</td>\n",
              "      <td>4.3</td>\n",
              "      <td>4.5</td>\n",
              "      <td>5.0</td>\n",
              "      <td>324.0</td>\n",
              "      <td>658983.0</td>\n",
              "      <td>1661826.7</td>\n",
              "      <td>0.0</td>\n",
              "      <td>2023.0</td>\n",
              "      <td>49616.5</td>\n",
              "      <td>406608.2</td>\n",
              "      <td>10859051.0</td>\n",
              "      <td>324.0</td>\n",
              "      <td>25.6</td>\n",
              "      <td>41.7</td>\n",
              "      <td>1.1</td>\n",
              "      <td>7.5</td>\n",
              "      <td>20.0</td>\n",
              "      <td>37.0</td>\n",
              "      <td>663.0</td>\n",
              "    </tr>\n",
              "    <tr>\n",
              "      <th>PRODUCTIVITY</th>\n",
              "      <td>413.0</td>\n",
              "      <td>4.3</td>\n",
              "      <td>0.3</td>\n",
              "      <td>3.0</td>\n",
              "      <td>4.2</td>\n",
              "      <td>4.2</td>\n",
              "      <td>4.5</td>\n",
              "      <td>5.0</td>\n",
              "      <td>413.0</td>\n",
              "      <td>276309.9</td>\n",
              "      <td>730774.6</td>\n",
              "      <td>0.0</td>\n",
              "      <td>17.0</td>\n",
              "      <td>5867.0</td>\n",
              "      <td>123412.0</td>\n",
              "      <td>5383985.0</td>\n",
              "      <td>413.0</td>\n",
              "      <td>36.8</td>\n",
              "      <td>92.7</td>\n",
              "      <td>1.1</td>\n",
              "      <td>5.3</td>\n",
              "      <td>19.0</td>\n",
              "      <td>37.0</td>\n",
              "      <td>879.0</td>\n",
              "    </tr>\n",
              "    <tr>\n",
              "      <th>SHOPPING</th>\n",
              "      <td>258.0</td>\n",
              "      <td>4.3</td>\n",
              "      <td>0.3</td>\n",
              "      <td>3.0</td>\n",
              "      <td>4.1</td>\n",
              "      <td>4.3</td>\n",
              "      <td>4.5</td>\n",
              "      <td>5.0</td>\n",
              "      <td>258.0</td>\n",
              "      <td>445895.9</td>\n",
              "      <td>1293064.1</td>\n",
              "      <td>0.0</td>\n",
              "      <td>1355.5</td>\n",
              "      <td>28523.0</td>\n",
              "      <td>148949.2</td>\n",
              "      <td>6212081.0</td>\n",
              "      <td>258.0</td>\n",
              "      <td>33.2</td>\n",
              "      <td>94.7</td>\n",
              "      <td>1.1</td>\n",
              "      <td>8.8</td>\n",
              "      <td>20.0</td>\n",
              "      <td>37.0</td>\n",
              "      <td>994.0</td>\n",
              "    </tr>\n",
              "    <tr>\n",
              "      <th>SOCIAL</th>\n",
              "      <td>292.0</td>\n",
              "      <td>4.3</td>\n",
              "      <td>0.3</td>\n",
              "      <td>3.0</td>\n",
              "      <td>4.1</td>\n",
              "      <td>4.2</td>\n",
              "      <td>4.5</td>\n",
              "      <td>5.0</td>\n",
              "      <td>292.0</td>\n",
              "      <td>2127538.6</td>\n",
              "      <td>10194029.5</td>\n",
              "      <td>0.0</td>\n",
              "      <td>82.2</td>\n",
              "      <td>18501.0</td>\n",
              "      <td>382120.2</td>\n",
              "      <td>78158306.0</td>\n",
              "      <td>292.0</td>\n",
              "      <td>29.4</td>\n",
              "      <td>64.5</td>\n",
              "      <td>1.1</td>\n",
              "      <td>5.9</td>\n",
              "      <td>20.0</td>\n",
              "      <td>37.0</td>\n",
              "      <td>881.0</td>\n",
              "    </tr>\n",
              "    <tr>\n",
              "      <th>SPORTS</th>\n",
              "      <td>379.0</td>\n",
              "      <td>4.2</td>\n",
              "      <td>0.3</td>\n",
              "      <td>3.0</td>\n",
              "      <td>4.1</td>\n",
              "      <td>4.2</td>\n",
              "      <td>4.4</td>\n",
              "      <td>5.0</td>\n",
              "      <td>379.0</td>\n",
              "      <td>186877.4</td>\n",
              "      <td>952151.8</td>\n",
              "      <td>0.0</td>\n",
              "      <td>80.0</td>\n",
              "      <td>5510.0</td>\n",
              "      <td>91031.0</td>\n",
              "      <td>14184910.0</td>\n",
              "      <td>379.0</td>\n",
              "      <td>31.2</td>\n",
              "      <td>56.2</td>\n",
              "      <td>1.1</td>\n",
              "      <td>10.0</td>\n",
              "      <td>26.0</td>\n",
              "      <td>37.0</td>\n",
              "      <td>948.0</td>\n",
              "    </tr>\n",
              "    <tr>\n",
              "      <th>TOOLS</th>\n",
              "      <td>798.0</td>\n",
              "      <td>4.2</td>\n",
              "      <td>0.4</td>\n",
              "      <td>3.0</td>\n",
              "      <td>4.0</td>\n",
              "      <td>4.2</td>\n",
              "      <td>4.4</td>\n",
              "      <td>5.0</td>\n",
              "      <td>798.0</td>\n",
              "      <td>342322.4</td>\n",
              "      <td>2176032.0</td>\n",
              "      <td>0.0</td>\n",
              "      <td>32.0</td>\n",
              "      <td>682.0</td>\n",
              "      <td>26039.8</td>\n",
              "      <td>42916526.0</td>\n",
              "      <td>798.0</td>\n",
              "      <td>46.5</td>\n",
              "      <td>134.1</td>\n",
              "      <td>1.0</td>\n",
              "      <td>3.2</td>\n",
              "      <td>8.0</td>\n",
              "      <td>33.0</td>\n",
              "      <td>986.0</td>\n",
              "    </tr>\n",
              "    <tr>\n",
              "      <th>TRAVEL_AND_LOCAL</th>\n",
              "      <td>252.0</td>\n",
              "      <td>4.2</td>\n",
              "      <td>0.4</td>\n",
              "      <td>3.0</td>\n",
              "      <td>4.0</td>\n",
              "      <td>4.2</td>\n",
              "      <td>4.4</td>\n",
              "      <td>5.0</td>\n",
              "      <td>252.0</td>\n",
              "      <td>248479.4</td>\n",
              "      <td>1061345.7</td>\n",
              "      <td>0.0</td>\n",
              "      <td>68.8</td>\n",
              "      <td>7117.0</td>\n",
              "      <td>49899.5</td>\n",
              "      <td>9235373.0</td>\n",
              "      <td>252.0</td>\n",
              "      <td>28.8</td>\n",
              "      <td>22.6</td>\n",
              "      <td>1.9</td>\n",
              "      <td>13.0</td>\n",
              "      <td>29.0</td>\n",
              "      <td>37.0</td>\n",
              "      <td>245.0</td>\n",
              "    </tr>\n",
              "    <tr>\n",
              "      <th>VIDEO_PLAYERS</th>\n",
              "      <td>169.0</td>\n",
              "      <td>4.1</td>\n",
              "      <td>0.4</td>\n",
              "      <td>3.0</td>\n",
              "      <td>3.9</td>\n",
              "      <td>4.2</td>\n",
              "      <td>4.4</td>\n",
              "      <td>4.9</td>\n",
              "      <td>169.0</td>\n",
              "      <td>653135.5</td>\n",
              "      <td>2997072.5</td>\n",
              "      <td>0.0</td>\n",
              "      <td>244.0</td>\n",
              "      <td>6685.0</td>\n",
              "      <td>148715.0</td>\n",
              "      <td>25655305.0</td>\n",
              "      <td>169.0</td>\n",
              "      <td>26.3</td>\n",
              "      <td>35.9</td>\n",
              "      <td>1.3</td>\n",
              "      <td>5.1</td>\n",
              "      <td>18.0</td>\n",
              "      <td>37.0</td>\n",
              "      <td>322.0</td>\n",
              "    </tr>\n",
              "    <tr>\n",
              "      <th>WEATHER</th>\n",
              "      <td>82.0</td>\n",
              "      <td>4.2</td>\n",
              "      <td>0.3</td>\n",
              "      <td>3.3</td>\n",
              "      <td>4.2</td>\n",
              "      <td>4.2</td>\n",
              "      <td>4.5</td>\n",
              "      <td>4.8</td>\n",
              "      <td>82.0</td>\n",
              "      <td>178106.5</td>\n",
              "      <td>484900.6</td>\n",
              "      <td>0.0</td>\n",
              "      <td>2190.2</td>\n",
              "      <td>12468.0</td>\n",
              "      <td>64351.5</td>\n",
              "      <td>2371543.0</td>\n",
              "      <td>82.0</td>\n",
              "      <td>27.5</td>\n",
              "      <td>63.7</td>\n",
              "      <td>1.1</td>\n",
              "      <td>5.4</td>\n",
              "      <td>18.0</td>\n",
              "      <td>37.0</td>\n",
              "      <td>582.0</td>\n",
              "    </tr>\n",
              "  </tbody>\n",
              "</table>\n",
              "</div>"
            ],
            "text/plain": [
              "                     Rating                      ... Size                           \n",
              "                      count mean  std  min  25%  ...  min   25%   50%    75%     max\n",
              "Category                                         ...                                \n",
              "ART_AND_DESIGN         65.0  4.4  0.4  3.2  4.1  ...  1.2   4.6   9.2   21.0    39.0\n",
              "AUTO_AND_VEHICLES      83.0  4.2  0.4  3.0  4.0  ...  1.1   6.4  18.0   37.0   885.0\n",
              "BEAUTY                 53.0  4.3  0.3  3.1  4.1  ...  2.2   4.2  12.0   24.0    57.0\n",
              "BOOKS_AND_REFERENCE   230.0  4.3  0.4  3.1  4.2  ...  1.4   5.0  10.0   36.5   970.0\n",
              "BUSINESS              443.0  4.2  0.4  3.0  4.2  ...  1.1   5.3  12.0   30.0   976.0\n",
              "COMICS                 59.0  4.2  0.5  3.0  3.9  ...  2.2   6.6  15.0   34.5   609.0\n",
              "COMMUNICATION         381.0  4.2  0.3  3.0  4.1  ...  1.1   5.4  22.0   37.0   961.0\n",
              "DATING                220.0  4.1  0.4  3.0  4.0  ...  1.2   6.1  14.0   28.0    77.0\n",
              "EDUCATION             156.0  4.4  0.3  3.5  4.2  ...  1.2  11.0  21.0   37.0   556.0\n",
              "ENTERTAINMENT         149.0  4.1  0.3  3.0  3.9  ...  3.3  17.0  32.0   37.0    78.0\n",
              "EVENTS                 63.0  4.4  0.3  3.7  4.2  ...  1.1   4.8  11.0   26.5   334.0\n",
              "FAMILY               1927.0  4.2  0.4  3.0  4.1  ...  1.0   8.0  25.0   44.0  1020.0\n",
              "FINANCE               345.0  4.3  0.4  3.0  4.1  ...  1.1   5.8  17.0   37.0   965.0\n",
              "FOOD_AND_DRINK        124.0  4.2  0.4  3.1  4.1  ...  1.7  13.0  25.0   37.0    76.0\n",
              "GAME                 1136.0  4.3  0.3  3.0  4.2  ...  1.1  24.0  37.0   61.2   691.0\n",
              "HEALTH_AND_FITNESS    321.0  4.4  0.3  3.0  4.2  ...  1.2   8.8  28.0   37.0   992.0\n",
              "HOUSE_AND_HOME         87.0  4.2  0.3  3.4  4.0  ...  1.9   7.6  16.0   37.0   656.0\n",
              "LIBRARIES_AND_DEMO     85.0  4.2  0.3  3.1  4.1  ...  1.2   7.0  22.0  335.0   860.0\n",
              "LIFESTYLE             359.0  4.2  0.5  3.0  4.0  ...  1.0   5.0  12.0   28.0   939.0\n",
              "MAPS_AND_NAVIGATION   131.0  4.1  0.4  3.0  3.9  ...  1.3   6.5  20.0   37.0   749.0\n",
              "MEDICAL               443.0  4.3  0.4  3.0  4.2  ...  1.2   6.5  19.0   33.5   980.0\n",
              "NEWS_AND_MAGAZINES    273.0  4.2  0.4  3.0  4.0  ...  1.0   6.3  14.0   37.0   280.0\n",
              "PARENTING              59.0  4.3  0.4  3.1  4.1  ...  1.5   5.6  15.0   37.0    98.0\n",
              "PERSONALIZATION       391.0  4.3  0.3  3.0  4.2  ...  1.1   4.5  11.0   25.0   963.0\n",
              "PHOTOGRAPHY           324.0  4.2  0.3  3.0  4.1  ...  1.1   7.5  20.0   37.0   663.0\n",
              "PRODUCTIVITY          413.0  4.3  0.3  3.0  4.2  ...  1.1   5.3  19.0   37.0   879.0\n",
              "SHOPPING              258.0  4.3  0.3  3.0  4.1  ...  1.1   8.8  20.0   37.0   994.0\n",
              "SOCIAL                292.0  4.3  0.3  3.0  4.1  ...  1.1   5.9  20.0   37.0   881.0\n",
              "SPORTS                379.0  4.2  0.3  3.0  4.1  ...  1.1  10.0  26.0   37.0   948.0\n",
              "TOOLS                 798.0  4.2  0.4  3.0  4.0  ...  1.0   3.2   8.0   33.0   986.0\n",
              "TRAVEL_AND_LOCAL      252.0  4.2  0.4  3.0  4.0  ...  1.9  13.0  29.0   37.0   245.0\n",
              "VIDEO_PLAYERS         169.0  4.1  0.4  3.0  3.9  ...  1.3   5.1  18.0   37.0   322.0\n",
              "WEATHER                82.0  4.2  0.3  3.3  4.2  ...  1.1   5.4  18.0   37.0   582.0\n",
              "\n",
              "[33 rows x 24 columns]"
            ]
          },
          "metadata": {
            "tags": []
          },
          "execution_count": 21
        }
      ]
    },
    {
      "cell_type": "code",
      "metadata": {
        "id": "fQ8J3j-Fc4V5",
        "colab_type": "code",
        "colab": {
          "base_uri": "https://localhost:8080/",
          "height": 612
        },
        "outputId": "ec41cfe0-218f-4a99-a4b8-f89c386d23e3"
      },
      "source": [
        "#uncomment to view\n",
        "\n",
        "google5.groupby(['Category'])['Rating'].sum()/google5.groupby(['Category'])['Rating'].count()\n",
        "google5.groupby(['Category'])['Rating'].std()"
      ],
      "execution_count": 99,
      "outputs": [
        {
          "output_type": "execute_result",
          "data": {
            "text/plain": [
              "Category\n",
              "ART_AND_DESIGN         0.351391\n",
              "AUTO_AND_VEHICLES      0.416307\n",
              "BEAUTY                 0.323578\n",
              "BOOKS_AND_REFERENCE    0.366989\n",
              "BUSINESS               0.374309\n",
              "COMICS                 0.501989\n",
              "COMMUNICATION          0.301538\n",
              "DATING                 0.406844\n",
              "EDUCATION              0.251535\n",
              "ENTERTAINMENT          0.302556\n",
              "EVENTS                 0.318824\n",
              "FAMILY                 0.389482\n",
              "FINANCE                0.369155\n",
              "FOOD_AND_DRINK         0.391012\n",
              "GAME                   0.310990\n",
              "HEALTH_AND_FITNESS     0.347200\n",
              "HOUSE_AND_HOME         0.308851\n",
              "LIBRARIES_AND_DEMO     0.330529\n",
              "LIFESTYLE              0.452489\n",
              "MAPS_AND_NAVIGATION    0.394558\n",
              "MEDICAL                0.397538\n",
              "NEWS_AND_MAGAZINES     0.369483\n",
              "PARENTING              0.369561\n",
              "PERSONALIZATION        0.307255\n",
              "PHOTOGRAPHY            0.347766\n",
              "PRODUCTIVITY           0.336597\n",
              "SHOPPING               0.329571\n",
              "SOCIAL                 0.338875\n",
              "SPORTS                 0.327934\n",
              "TOOLS                  0.401197\n",
              "TRAVEL_AND_LOCAL       0.395375\n",
              "VIDEO_PLAYERS          0.415421\n",
              "WEATHER                0.316953\n",
              "Name: Rating, dtype: float64"
            ]
          },
          "metadata": {
            "tags": []
          },
          "execution_count": 99
        }
      ]
    },
    {
      "cell_type": "markdown",
      "metadata": {
        "collapsed": false,
        "id": "S6xjG2xvc4V8",
        "colab_type": "text"
      },
      "source": [
        "As you can see, after separating app based on genre, the average rating of each category is still above 4, with a standard deviation of less than 1. This implies category may not be the best determinant of rating. Now let's repeat the process for the rest of our categorical columns."
      ]
    },
    {
      "cell_type": "code",
      "metadata": {
        "id": "HUN8NCcKc4V8",
        "colab_type": "code",
        "colab": {}
      },
      "source": [
        "#uncomment to see (don't remove)\n",
        "\n",
        "#google5.groupby(['Installs'])['Rating'].sum()/google5.groupby(['Installs'])['Rating'].count()\n",
        "#google5.groupby(['Installs'])['Rating'].std()"
      ],
      "execution_count": 0,
      "outputs": []
    },
    {
      "cell_type": "code",
      "metadata": {
        "id": "nZoaz_8dc4WE",
        "colab_type": "code",
        "colab": {}
      },
      "source": [
        "#uncomment to see (don't remove)\n",
        "\n",
        "#google5.groupby(['Type'])['Rating'].sum()/google5.groupby(['Type'])['Rating'].count()\n",
        "#google5.groupby(['Type'])['Rating'].std()"
      ],
      "execution_count": 0,
      "outputs": []
    },
    {
      "cell_type": "code",
      "metadata": {
        "id": "RRg5OL-Ic4WJ",
        "colab_type": "code",
        "colab": {}
      },
      "source": [
        "#uncomment to see (don't remove)\n",
        "\n",
        "#google5.groupby(['Content_Rating'])['Rating'].sum()/google5.groupby(['Content_Rating'])['Rating'].count()\n",
        "#google5.groupby(['Content_Rating'])['Rating'].std()"
      ],
      "execution_count": 0,
      "outputs": []
    },
    {
      "cell_type": "markdown",
      "metadata": {
        "collapsed": false,
        "id": "l6p03iw9c4WL",
        "colab_type": "text"
      },
      "source": [
        "Executing each of the above queries will use up a lot of space. We would recommending uncommenting the lines one by one for each categorical column to find the mean and standard deviations.\n",
        "\n",
        "The same story can be said regarding the number of installs. We originally hypothesized an increase in sample size (more downloads -> more reviews) would impact the average rating in some way. As predicted, it decreased the standard deviation, though not as much as we anticipated.\n",
        "\n",
        "Paid apps are rating slightly higher with a similar standard deviation, though we don't believe it to be a statistically significant value. A similar statement can be said regarding adult only apps. We predict there is a chance that niche apps for a certain audiencce may lead to having a higher average review.\n",
        "\n",
        "Next, lets combine #3 and #4.\n",
        "\n",
        "**Which individual features have a better role in predicting app rating? What are the distributions of the counts of our features?**"
      ]
    },
    {
      "cell_type": "code",
      "metadata": {
        "id": "FFZ6h_a9c4WM",
        "colab_type": "code",
        "outputId": "0d43417a-f1c9-4621-8d73-dd352c007f80",
        "colab": {
          "base_uri": "https://localhost:8080/",
          "height": 423
        }
      },
      "source": [
        "rating_histogram = google5.hist(column='Rating', figsize=(12,6))\n",
        "chart, *rest = rating_histogram\n",
        "for x in chart:\n",
        "    x.set_xlabel(\"Rating\", labelpad=20, weight='bold', size=12)\n",
        "    x.set_ylabel(\"Count\", labelpad=20, weight='bold', size=12)"
      ],
      "execution_count": 0,
      "outputs": [
        {
          "output_type": "display_data",
          "data": {
            "image/png": "[encoded data removed]",
            "text/plain": [
              "<Figure size 864x432 with 1 Axes>"
            ]
          },
          "metadata": {
            "tags": [],
            "needs_background": "light"
          }
        }
      ]
    },
    {
      "cell_type": "markdown",
      "metadata": {
        "collapsed": false,
        "id": "Q95FcCjBc4WO",
        "colab_type": "text"
      },
      "source": [
        "We start out with finding the distribution of app ratings. You can see that it does not follow a traditional bell curve, but is rather heavily skewed to the right with a very short left tail."
      ]
    },
    {
      "cell_type": "code",
      "metadata": {
        "id": "CBOwLVibc4WP",
        "colab_type": "code",
        "colab": {}
      },
      "source": [
        "# size_histogram = google5.hist(column='Size', figsize=(12,6))\n",
        "#chart, *rest = size_histogram\n",
        "#for x in chart:\n",
        "#    x.set_xlabel(\"Size (mb)\", labelpad=20, weight='bold', size=12)\n",
        "#    x.set_ylabel(\"Count\", labelpad=20, weight='bold', size=12)"
      ],
      "execution_count": 0,
      "outputs": []
    },
    {
      "cell_type": "code",
      "metadata": {
        "id": "agBftBPQc4WR",
        "colab_type": "code",
        "colab": {}
      },
      "source": [
        "# reviews_histogram = google5.hist(column='Reviews', figsize=(12,6))\n",
        "# chart, *rest = reviews_histogram\n",
        "# for x in chart:\n",
        "#     x.set_xlabel(\"Number of Reviews (in millions)\", labelpad=20, weight='bold', size=12)\n",
        "#     x.set_ylabel(\"Count\", labelpad=20, weight='bold', size=12)"
      ],
      "execution_count": 0,
      "outputs": []
    },
    {
      "cell_type": "markdown",
      "metadata": {
        "collapsed": false,
        "id": "4R2fqVwWc4WT",
        "colab_type": "text"
      },
      "source": [
        "After running a similar histogram with reviews and app size, the vast majority of the rows are in the first cluster, so that it looks just like a single bar rather than an even histogram. The last two histograms will look much better if we got rid of all the outlier values, but based on the actual values, we couldn't find a fair cut off point that would be considered an outlier. In addition, we feel getting rid of those values may have a bad impact on the tests that we will be performing later on. Next, lets view the distributions of our categorical variables on our quantitative variables.\n",
        "\n",
        "You can view the two histograms anyway by uncommenting the two code chunks above, but again, the vast majority of the data points are clustered onto one interval.\n",
        "\n",
        "The follow code can be used to create overlapping histograms of rating based on category values. We will not compare every app genre because there are two many, but you can replace the values in the second set of square brackets and after the double equals sign to experiment for yourself. Here is an example we have provided. Category names include: ART_AND_DESIGN, AUTO_AND_VEHICLES, BEAUTY, BOOKS_AND_REFERENCE, BUSINESS, COMICS, COMMUNICATION, DATING, EDUCATION, ENTERTAINMENT, EVENTS, FAMILY, FINANCE, FOOD_AND_DRINK, GAME, HEALTH_AND_FITNESS, HOUSE_AND_HOME, LIBRARIES_AND_DEMO, LIFESTYLE, MAPS_AND_NAVIGATION, MEDICAL, NEWS_AND_MAGAZINES, PARENTING, PERSONALIZATION, PHOTOGRAPHY, PRODUCTIVITY, SHOPPING, SOCIAL, SPORTS, TOOLS, TRAVEL_AND_LOCAL, VIDEO_PLAYERS, WEATHER.\n",
        "\n",
        "In our example, you can see the Arts&Design apps have a higher distribution of ratings, though the measurements done beforehand show there isn't statistical significance to this finding."
      ]
    },
    {
      "cell_type": "code",
      "metadata": {
        "id": "V90GnQwQc4WU",
        "colab_type": "code",
        "outputId": "7ce7244a-65d0-4772-85d7-1a5e6550ce71",
        "colab": {
          "base_uri": "https://localhost:8080/",
          "height": 312
        }
      },
      "source": [
        "plt.hist(google5['Rating'][(google5['Category'] == 'AUTO_AND_VEHICLES')].dropna(), bins=8, label='Auto&Vehicles', histtype='stepfilled')#.show()\n",
        "plt.hist(google5['Rating'][(google5['Category'] == 'ART_AND_DESIGN')].dropna(), bins=8, label='Art&Design', alpha=.7, histtype='stepfilled')#.show()\n",
        "plt.xlabel('Rating')\n",
        "plt.ylabel('Count')\n",
        "plt.title('Histogram of Ratings by Genre')\n",
        "plt.legend()"
      ],
      "execution_count": 0,
      "outputs": [
        {
          "output_type": "execute_result",
          "data": {
            "text/plain": [
              "<matplotlib.legend.Legend at 0x7f5f1756bf28>"
            ]
          },
          "metadata": {
            "tags": []
          },
          "execution_count": 29
        },
        {
          "output_type": "display_data",
          "data": {
            "image/png": "[encoded data removed]",
            "text/plain": [
              "<Figure size 432x288 with 1 Axes>"
            ]
          },
          "metadata": {
            "tags": [],
            "needs_background": "light"
          }
        }
      ]
    },
    {
      "cell_type": "markdown",
      "metadata": {
        "collapsed": false,
        "id": "kCFXqAyqc4WW",
        "colab_type": "text"
      },
      "source": [
        "This 2D categorical box plot again shows there is no statistical difference between free/paid apps and among content ratings."
      ]
    },
    {
      "cell_type": "code",
      "metadata": {
        "id": "m7c4z5JXc4WW",
        "colab_type": "code",
        "outputId": "b7339d2e-f2be-436a-86be-bde2302035d4",
        "colab": {
          "base_uri": "https://localhost:8080/",
          "height": 369
        }
      },
      "source": [
        "g = sns.catplot(x=\"Content_Rating\", y=\"Rating\", hue=\"Type\",\n",
        "               data=google5, kind=\"violin\",\n",
        "               height=5, aspect=2)"
      ],
      "execution_count": 0,
      "outputs": [
        {
          "output_type": "display_data",
          "data": {
            "image/png": "[encoded data removed]",
            "text/plain": [
              "<Figure size 777.125x360 with 1 Axes>"
            ]
          },
          "metadata": {
            "tags": [],
            "needs_background": "light"
          }
        }
      ]
    },
    {
      "cell_type": "markdown",
      "metadata": {
        "collapsed": false,
        "id": "Es04fRCRc4Wa",
        "colab_type": "text"
      },
      "source": [
        "The following are grouped histograms that compare counts of each rating. The absolute counts of certain genres are very high, so it is not very easy to see the rest. Here, you can see which options of each categorical measure have a relativly flatter or normal distribution. We've found values with a higher sample size have a more normal distribution in general, though that was not always the case. Of course, that is to be expected.\n",
        "\n",
        "*warning* they will take a long time to load"
      ]
    },
    {
      "cell_type": "code",
      "metadata": {
        "id": "YZ63cMTzc4Wb",
        "colab_type": "code",
        "outputId": "f79380d5-6822-4793-fab9-dce4f805eb4e",
        "colab": {
          "base_uri": "https://localhost:8080/",
          "height": 74
        }
      },
      "source": [
        "sns.factorplot('Rating', col='Category', data=google5, kind='count', size=7, aspect=.8)\n",
        "plt.subplots_adjust(top=0.9)\n",
        "plt.suptitle('Category Segregation of Rating', fontsize=16)"
      ],
      "execution_count": 0,
      "outputs": [
        {
          "output_type": "execute_result",
          "data": {
            "text/plain": [
              "Text(0.5, 0.98, 'Category Segregation of Rating')"
            ]
          },
          "metadata": {
            "tags": []
          },
          "execution_count": 31
        },
        {
          "output_type": "display_data",
          "data": {
            "image/png": "[encoded data removed]",
            "text/plain": [
              "<Figure size 13305.6x504 with 33 Axes>"
            ]
          },
          "metadata": {
            "tags": [],
            "needs_background": "light"
          }
        }
      ]
    },
    {
      "cell_type": "code",
      "metadata": {
        "id": "dqwzPR3lc4Wd",
        "colab_type": "code",
        "outputId": "a2c91ae6-73d3-4039-a04c-8d809a2c9c39",
        "colab": {
          "base_uri": "https://localhost:8080/",
          "height": 100
        }
      },
      "source": [
        "sns.factorplot('Rating', col='Installs', data=google5, kind='count', size=7, aspect=.8, \n",
        "               col_order=['0+', '1+', '5+', '10+', '50+', '100+', '500+', '1,000+',\n",
        "                         '5,000+', '10,000+', '50,000+', '100,000+', '500,000+',\n",
        "                         '1,000,000+', '5,000,000+', '10,000,000+', '50,000,000+',\n",
        "                         '100,000,000+', '500,000,000+', '1,000,000,000+'])\n",
        "plt.subplots_adjust(top=0.9)\n",
        "plt.suptitle('Installs Segregation of Rating', fontsize=16)"
      ],
      "execution_count": 0,
      "outputs": [
        {
          "output_type": "execute_result",
          "data": {
            "text/plain": [
              "Text(0.5, 0.98, 'Installs Segregation of Rating')"
            ]
          },
          "metadata": {
            "tags": []
          },
          "execution_count": 32
        },
        {
          "output_type": "display_data",
          "data": {
            "image/png": "[encoded data removed]",
            "text/plain": [
              "<Figure size 8064x504 with 20 Axes>"
            ]
          },
          "metadata": {
            "tags": [],
            "needs_background": "light"
          }
        }
      ]
    },
    {
      "cell_type": "code",
      "metadata": {
        "id": "PLDOJ858c4Wf",
        "colab_type": "code",
        "outputId": "6b857844-5f3d-48bf-a63c-5e69d605c827",
        "colab": {
          "base_uri": "https://localhost:8080/",
          "height": 531
        }
      },
      "source": [
        "sns.factorplot('Rating', col='Type', data=google5, kind='count', size=7, aspect=.8)\n",
        "plt.subplots_adjust(top=0.9)\n",
        "plt.suptitle('Type Segregation of Rating', fontsize=16)"
      ],
      "execution_count": 0,
      "outputs": [
        {
          "output_type": "execute_result",
          "data": {
            "text/plain": [
              "Text(0.5, 0.98, 'Type Segregation of Rating')"
            ]
          },
          "metadata": {
            "tags": []
          },
          "execution_count": 33
        },
        {
          "output_type": "display_data",
          "data": {
            "image/png": "[encoded data removed]",
            "text/plain": [
              "<Figure size 806.4x504 with 2 Axes>"
            ]
          },
          "metadata": {
            "tags": [],
            "needs_background": "light"
          }
        }
      ]
    },
    {
      "cell_type": "code",
      "metadata": {
        "id": "bUIZOw_4c4Wh",
        "colab_type": "code",
        "outputId": "3bb3a78a-f483-4ae3-96ac-b8f68bc7b23d",
        "colab": {
          "base_uri": "https://localhost:8080/",
          "height": 298
        }
      },
      "source": [
        "sns.factorplot('Rating', col='Content_Rating', data=google5, kind='count', size=7, aspect=.8)\n",
        "plt.subplots_adjust(top=0.9)\n",
        "plt.suptitle('Content Rating Segregation of Rating', fontsize=16)"
      ],
      "execution_count": 0,
      "outputs": [
        {
          "output_type": "execute_result",
          "data": {
            "text/plain": [
              "Text(0.5, 0.98, 'Content Rating Segregation of Rating')"
            ]
          },
          "metadata": {
            "tags": []
          },
          "execution_count": 34
        },
        {
          "output_type": "display_data",
          "data": {
            "image/png": "[encoded data removed]",
            "text/plain": [
              "<Figure size 2016x504 with 5 Axes>"
            ]
          },
          "metadata": {
            "tags": [],
            "needs_background": "light"
          }
        }
      ]
    },
    {
      "cell_type": "markdown",
      "metadata": {
        "collapsed": false,
        "id": "2bCDuq1Sc4Wk",
        "colab_type": "text"
      },
      "source": [
        "In the end, it was hard to decide if an individual attribute contributed to rating more than the test. These visualizations as well as the measurements obtained from previous questions indicate that there isn't one.\n",
        "\n",
        "Lets move on to the ML portion now."
      ]
    },
    {
      "cell_type": "markdown",
      "metadata": {
        "colab_type": "text",
        "collapsed": false,
        "id": "najA-ayiw9SG"
      },
      "source": [
        "### 3. Resuming Preprocessing using Sklearn"
      ]
    },
    {
      "cell_type": "markdown",
      "metadata": {
        "collapsed": false,
        "id": "OGtzXcUtc4Wl",
        "colab_type": "text"
      },
      "source": [
        "First, let's create the test and train sets."
      ]
    },
    {
      "cell_type": "markdown",
      "metadata": {
        "collapsed": false,
        "id": "Rcb7OLEyc4Wl",
        "colab_type": "text"
      },
      "source": [
        "The columns below are the features we will use to predict Rating. These are all of the columns from the cleaned dataset except for the application name, which is quite arbitrary since app names can be made-up words. Furthermore, we do not do any sentiment analysis in this project, so phrasing is irrelevant."
      ]
    },
    {
      "cell_type": "code",
      "metadata": {
        "id": "Jy9er0Nrc4Wm",
        "colab_type": "code",
        "colab": {}
      },
      "source": [
        "cols = ['Category','Installs','Content_Rating','Reviews','Size','Type']"
      ],
      "execution_count": 0,
      "outputs": []
    },
    {
      "cell_type": "code",
      "metadata": {
        "colab_type": "code",
        "id": "hqQVhTXixHch",
        "outputId": "dd7f2027-8445-42ff-e2d6-c5d9b77a1a1a",
        "colab": {
          "base_uri": "https://localhost:8080/",
          "height": 170
        }
      },
      "source": [
        "google5.isna().sum()"
      ],
      "execution_count": 0,
      "outputs": [
        {
          "output_type": "execute_result",
          "data": {
            "text/plain": [
              "App               0\n",
              "Category          0\n",
              "Rating            0\n",
              "Reviews           0\n",
              "Size              0\n",
              "Installs          0\n",
              "Type              0\n",
              "Content_Rating    0\n",
              "dtype: int64"
            ]
          },
          "metadata": {
            "tags": []
          },
          "execution_count": 36
        }
      ]
    },
    {
      "cell_type": "code",
      "metadata": {
        "id": "kGtG2zzBc4W7",
        "colab_type": "code",
        "colab": {}
      },
      "source": [
        "X = google5[cols]\n",
        "y = google5.Rating"
      ],
      "execution_count": 0,
      "outputs": []
    },
    {
      "cell_type": "markdown",
      "metadata": {
        "collapsed": false,
        "id": "0B-kljA4c4W9",
        "colab_type": "text"
      },
      "source": [
        "Next, we will split X and y into training and testing sets, which will be called by our machine learning model."
      ]
    },
    {
      "cell_type": "code",
      "metadata": {
        "id": "4G8xCNwnc4W9",
        "colab_type": "code",
        "outputId": "5fc20997-b5af-4703-ba5d-312e956dc508",
        "colab": {
          "base_uri": "https://localhost:8080/",
          "height": 51
        }
      },
      "source": [
        "# split X and y into training and testing sets\n",
        "from sklearn.model_selection import train_test_split\n",
        "X_train, X_test, y_train, y_test = train_test_split(X, y, random_state=0)\n",
        "\n",
        "print(X_train.shape, y_train.shape)\n",
        "print(X_test.shape, y_test.shape)"
      ],
      "execution_count": 0,
      "outputs": [
        {
          "output_type": "stream",
          "text": [
            "(7912, 6) (7912,)\n",
            "(2638, 6) (2638,)\n"
          ],
          "name": "stdout"
        }
      ]
    },
    {
      "cell_type": "markdown",
      "metadata": {
        "id": "tL18vVoXeaVB",
        "colab_type": "text"
      },
      "source": [
        "Category, Installs, Content_Rating, and Type are categorical features. It is not quite fitting to use Label Encoding for Category since the model may potentially find a relationship between categories based on their unique, mapped number even if the categories are totally different. Thus, we decided to use One-Hot Encoding for Category and the rest of the categorical features out of simplicity. \n",
        "\n",
        "Now we set up a column transformer using One-Hot Encoding for those features.\n"
      ]
    },
    {
      "cell_type": "code",
      "metadata": {
        "colab_type": "code",
        "id": "dtD1cQ9a_l_1",
        "colab": {}
      },
      "source": [
        "from sklearn.preprocessing import OneHotEncoder\n",
        "#from sklearn.impute import SimpleImputer\n",
        "from sklearn.compose import make_column_transformer"
      ],
      "execution_count": 0,
      "outputs": []
    },
    {
      "cell_type": "code",
      "metadata": {
        "colab_type": "code",
        "id": "uX4LAluzbq-L",
        "colab": {}
      },
      "source": [
        "ohe = OneHotEncoder(sparse=False,handle_unknown='ignore')\n",
        "ct = make_column_transformer(\n",
        "    (ohe, ['Category', 'Installs', 'Content_Rating','Type']),\n",
        "    remainder = 'passthrough'\n",
        ")"
      ],
      "execution_count": 0,
      "outputs": []
    },
    {
      "cell_type": "markdown",
      "metadata": {
        "collapsed": false,
        "id": "C6gi3p4Mc4XQ",
        "colab_type": "text"
      },
      "source": [
        "### 4. Training the Model"
      ]
    },
    {
      "cell_type": "markdown",
      "metadata": {
        "collapsed": false,
        "id": "ddCxGRwHc4XQ",
        "colab_type": "text"
      },
      "source": [
        "We will import Sklearn's `LinearRegression` model since our task is a supervised regression problem. We will also import `cross_val_score` to calculate the root mean squared error of our model on the entire dataset. Lastly, we import `make_pipeline` so that we can apply our column transformer to our data. "
      ]
    },
    {
      "cell_type": "code",
      "metadata": {
        "id": "GQwD_tWvc4XR",
        "colab_type": "code",
        "colab": {}
      },
      "source": [
        "from sklearn.linear_model import LinearRegression\n",
        "from sklearn.model_selection import cross_val_score\n",
        "from sklearn.pipeline import make_pipeline"
      ],
      "execution_count": 0,
      "outputs": []
    },
    {
      "cell_type": "code",
      "metadata": {
        "scrolled": true,
        "id": "P3lz-f5Vc4XU",
        "colab_type": "code",
        "outputId": "cab99a78-f48f-483d-b95f-7f843c092bbf",
        "colab": {
          "base_uri": "https://localhost:8080/",
          "height": 34
        }
      },
      "source": [
        "lnr = LinearRegression()\n",
        "p1 = make_pipeline(ct, lnr)\n",
        "score = cross_val_score(p1, X, y, cv=5, scoring='neg_root_mean_squared_error')\n",
        "score.mean()"
      ],
      "execution_count": 0,
      "outputs": [
        {
          "output_type": "execute_result",
          "data": {
            "text/plain": [
              "-0.3620067096325137"
            ]
          },
          "metadata": {
            "tags": []
          },
          "execution_count": 42
        }
      ]
    },
    {
      "cell_type": "markdown",
      "metadata": {
        "collapsed": false,
        "id": "He4ZdwY6c4XY",
        "colab_type": "text"
      },
      "source": [
        "Root mean squared error (RMSE) is a function where a lower score is better than a higher score. As a result, `cross_val_score` takes in a score function of `neg_root_mean_squared_error`, in which the negative sign indicates a lower score is better. In actuality, the RMSE is simply the positive value of 0.3620."
      ]
    },
    {
      "cell_type": "markdown",
      "metadata": {
        "collapsed": false,
        "id": "26F6Opdrc4XZ",
        "colab_type": "text"
      },
      "source": [
        "Using the training set, we will train the pipeline containing the linear regression model."
      ]
    },
    {
      "cell_type": "code",
      "metadata": {
        "id": "9Qh4YByBc4Xa",
        "colab_type": "code",
        "outputId": "318c0878-6609-4fb0-829d-cd570bde19d3",
        "colab": {
          "base_uri": "https://localhost:8080/",
          "height": 323
        }
      },
      "source": [
        "p1.fit(X_train, y_train)"
      ],
      "execution_count": 0,
      "outputs": [
        {
          "output_type": "execute_result",
          "data": {
            "text/plain": [
              "Pipeline(memory=None,\n",
              "         steps=[('columntransformer',\n",
              "                 ColumnTransformer(n_jobs=None, remainder='passthrough',\n",
              "                                   sparse_threshold=0.3,\n",
              "                                   transformer_weights=None,\n",
              "                                   transformers=[('onehotencoder',\n",
              "                                                  OneHotEncoder(categories='auto',\n",
              "                                                                drop=None,\n",
              "                                                                dtype=<class 'numpy.float64'>,\n",
              "                                                                handle_unknown='ignore',\n",
              "                                                                sparse=False),\n",
              "                                                  ['Category', 'Installs',\n",
              "                                                   'Content_Rating', 'Type'])],\n",
              "                                   verbose=False)),\n",
              "                ('linearregression',\n",
              "                 LinearRegression(copy_X=True, fit_intercept=True, n_jobs=None,\n",
              "                                  normalize=False))],\n",
              "         verbose=False)"
            ]
          },
          "metadata": {
            "tags": []
          },
          "execution_count": 43
        }
      ]
    },
    {
      "cell_type": "markdown",
      "metadata": {
        "collapsed": false,
        "id": "eOM-DbCxc4Xd",
        "colab_type": "text"
      },
      "source": [
        "### 5. Testing"
      ]
    },
    {
      "cell_type": "markdown",
      "metadata": {
        "collapsed": false,
        "id": "OM1v83Jsc4Xd",
        "colab_type": "text"
      },
      "source": [
        "Now that the linear regression model is trained, we will use our test set to predict the rating of Google Play Store apps based on the following features: Category, Installs, Content_Rating, Reviews, Size, Type."
      ]
    },
    {
      "cell_type": "code",
      "metadata": {
        "id": "14XaBM0Sc4Xf",
        "colab_type": "code",
        "colab": {}
      },
      "source": [
        "y_pred = p1.predict(X_test)"
      ],
      "execution_count": 0,
      "outputs": []
    },
    {
      "cell_type": "markdown",
      "metadata": {
        "collapsed": false,
        "id": "HemBIF-Cc4Xh",
        "colab_type": "text"
      },
      "source": [
        "Let's analyze the test set's actual and predicted ratings. First, we'll look at basic statistics of the actual ratings."
      ]
    },
    {
      "cell_type": "code",
      "metadata": {
        "id": "TDGLHD7Qc4Xi",
        "colab_type": "code",
        "outputId": "beead3c7-2959-4e5a-c308-0e5508ffedeb",
        "colab": {
          "base_uri": "https://localhost:8080/",
          "height": 170
        }
      },
      "source": [
        "# test set actual ratings\n",
        "y_test.describe()"
      ],
      "execution_count": 0,
      "outputs": [
        {
          "output_type": "execute_result",
          "data": {
            "text/plain": [
              "count    2638.000000\n",
              "mean        4.243139\n",
              "std         0.376011\n",
              "min         3.000000\n",
              "25%         4.100000\n",
              "50%         4.200000\n",
              "75%         4.500000\n",
              "max         5.000000\n",
              "Name: Rating, dtype: float64"
            ]
          },
          "metadata": {
            "tags": []
          },
          "execution_count": 45
        }
      ]
    },
    {
      "cell_type": "markdown",
      "metadata": {
        "collapsed": false,
        "id": "6cFeIpZGc4Xo",
        "colab_type": "text"
      },
      "source": [
        "Here we see that in the test set, there is a mean rating of 4.243139, min rating of 3.0, and max rating of 5.0. Now, let's look at the predicted ratings."
      ]
    },
    {
      "cell_type": "code",
      "metadata": {
        "id": "0BE-2MJbc4Xp",
        "colab_type": "code",
        "outputId": "3a0284f7-e555-42ad-e03c-6b8f5f1aacb9",
        "colab": {
          "base_uri": "https://localhost:8080/",
          "height": 170
        }
      },
      "source": [
        "# test set predicted ratings\n",
        "pd.Series(y_pred).describe()"
      ],
      "execution_count": 0,
      "outputs": [
        {
          "output_type": "execute_result",
          "data": {
            "text/plain": [
              "count    2638.000000\n",
              "mean        4.242721\n",
              "std         0.096800\n",
              "min         3.974749\n",
              "25%         4.167861\n",
              "50%         4.237339\n",
              "75%         4.305708\n",
              "max         4.737466\n",
              "dtype: float64"
            ]
          },
          "metadata": {
            "tags": []
          },
          "execution_count": 46
        }
      ]
    },
    {
      "cell_type": "markdown",
      "metadata": {
        "collapsed": false,
        "id": "o4TSAVdGc4Xv",
        "colab_type": "text"
      },
      "source": [
        "Here we see that within the predicted ratings, there is a mean rating of 4.242721, which is very close to that of the actual ratings. The min rating is 3.974749, which is significantly higher than the min rating of the actual ratings. The max rating is 4.737466, which is not as high as the max rating of the actual ratings."
      ]
    },
    {
      "cell_type": "markdown",
      "metadata": {
        "collapsed": false,
        "id": "G7zN_E2Oc4Xv",
        "colab_type": "text"
      },
      "source": [
        "Below, we see a dataframe of an app's actual rating compared to its predicted rating."
      ]
    },
    {
      "cell_type": "code",
      "metadata": {
        "id": "-z6yfo4pc4Xv",
        "colab_type": "code",
        "outputId": "f2985375-21e4-49cf-f83c-9fa6674675ec",
        "colab": {
          "base_uri": "https://localhost:8080/",
          "height": 419
        }
      },
      "source": [
        "comparison_df = pd.DataFrame({'Actual': y_test, 'Predicted': y_pred})\n",
        "comparison_df['Residuals'] = comparison_df['Actual'] - comparison_df['Predicted']\n",
        "comparison_df"
      ],
      "execution_count": 0,
      "outputs": [
        {
          "output_type": "execute_result",
          "data": {
            "text/html": [
              "<div>\n",
              "<style scoped>\n",
              "    .dataframe tbody tr th:only-of-type {\n",
              "        vertical-align: middle;\n",
              "    }\n",
              "\n",
              "    .dataframe tbody tr th {\n",
              "        vertical-align: top;\n",
              "    }\n",
              "\n",
              "    .dataframe thead th {\n",
              "        text-align: right;\n",
              "    }\n",
              "</style>\n",
              "<table border=\"1\" class=\"dataframe\">\n",
              "  <thead>\n",
              "    <tr style=\"text-align: right;\">\n",
              "      <th></th>\n",
              "      <th>Actual</th>\n",
              "      <th>Predicted</th>\n",
              "      <th>Residuals</th>\n",
              "    </tr>\n",
              "  </thead>\n",
              "  <tbody>\n",
              "    <tr>\n",
              "      <th>272</th>\n",
              "      <td>4.3</td>\n",
              "      <td>4.202107</td>\n",
              "      <td>0.097893</td>\n",
              "    </tr>\n",
              "    <tr>\n",
              "      <th>4384</th>\n",
              "      <td>3.8</td>\n",
              "      <td>4.218151</td>\n",
              "      <td>-0.418151</td>\n",
              "    </tr>\n",
              "    <tr>\n",
              "      <th>3368</th>\n",
              "      <td>4.3</td>\n",
              "      <td>4.370253</td>\n",
              "      <td>-0.070253</td>\n",
              "    </tr>\n",
              "    <tr>\n",
              "      <th>7073</th>\n",
              "      <td>4.2</td>\n",
              "      <td>4.313155</td>\n",
              "      <td>-0.113155</td>\n",
              "    </tr>\n",
              "    <tr>\n",
              "      <th>3867</th>\n",
              "      <td>3.5</td>\n",
              "      <td>4.114929</td>\n",
              "      <td>-0.614929</td>\n",
              "    </tr>\n",
              "    <tr>\n",
              "      <th>...</th>\n",
              "      <td>...</td>\n",
              "      <td>...</td>\n",
              "      <td>...</td>\n",
              "    </tr>\n",
              "    <tr>\n",
              "      <th>7433</th>\n",
              "      <td>5.0</td>\n",
              "      <td>4.458317</td>\n",
              "      <td>0.541683</td>\n",
              "    </tr>\n",
              "    <tr>\n",
              "      <th>9428</th>\n",
              "      <td>4.5</td>\n",
              "      <td>4.231677</td>\n",
              "      <td>0.268323</td>\n",
              "    </tr>\n",
              "    <tr>\n",
              "      <th>10349</th>\n",
              "      <td>5.0</td>\n",
              "      <td>4.450358</td>\n",
              "      <td>0.549642</td>\n",
              "    </tr>\n",
              "    <tr>\n",
              "      <th>5538</th>\n",
              "      <td>4.4</td>\n",
              "      <td>4.170098</td>\n",
              "      <td>0.229902</td>\n",
              "    </tr>\n",
              "    <tr>\n",
              "      <th>1471</th>\n",
              "      <td>4.7</td>\n",
              "      <td>4.118816</td>\n",
              "      <td>0.581184</td>\n",
              "    </tr>\n",
              "  </tbody>\n",
              "</table>\n",
              "<p>2638 rows × 3 columns</p>\n",
              "</div>"
            ],
            "text/plain": [
              "       Actual  Predicted  Residuals\n",
              "272       4.3   4.202107   0.097893\n",
              "4384      3.8   4.218151  -0.418151\n",
              "3368      4.3   4.370253  -0.070253\n",
              "7073      4.2   4.313155  -0.113155\n",
              "3867      3.5   4.114929  -0.614929\n",
              "...       ...        ...        ...\n",
              "7433      5.0   4.458317   0.541683\n",
              "9428      4.5   4.231677   0.268323\n",
              "10349     5.0   4.450358   0.549642\n",
              "5538      4.4   4.170098   0.229902\n",
              "1471      4.7   4.118816   0.581184\n",
              "\n",
              "[2638 rows x 3 columns]"
            ]
          },
          "metadata": {
            "tags": []
          },
          "execution_count": 47
        }
      ]
    },
    {
      "cell_type": "markdown",
      "metadata": {
        "collapsed": false,
        "id": "tlgo-r9tc4X0",
        "colab_type": "text"
      },
      "source": [
        "Let's plot the predicted rating against its residual to see how good of a fit our linear regression model is."
      ]
    },
    {
      "cell_type": "code",
      "metadata": {
        "id": "MnaHNkoVc4X1",
        "colab_type": "code",
        "outputId": "b1e94e59-c3f6-4f70-9683-b0a1253fabe3",
        "colab": {
          "base_uri": "https://localhost:8080/",
          "height": 310
        }
      },
      "source": [
        "plt.scatter(comparison_df['Predicted'], comparison_df['Residuals'], color='blue',s=5)\n",
        "plt.xlabel(\"Predicted Rating\")\n",
        "plt.ylabel(\"Residual (Actual - Predicted)\")\n",
        "plt.title(\"Linear regression appears to be a good model\\n\" + \n",
        "          \" for predicting rating\")\n",
        "plt.axhline(color='red')\n",
        "plt.show()"
      ],
      "execution_count": 0,
      "outputs": [
        {
          "output_type": "display_data",
          "data": {
            "image/png": "[encoded data removed]",
            "text/plain": [
              "<Figure size 432x288 with 1 Axes>"
            ]
          },
          "metadata": {
            "tags": [],
            "needs_background": "light"
          }
        }
      ]
    },
    {
      "cell_type": "markdown",
      "metadata": {
        "collapsed": false,
        "id": "GnWhJg8gc4X6",
        "colab_type": "text"
      },
      "source": [
        "Based on the residual plot above, the linear regression model is a fairly good model for predicting rating for three reasons:\n",
        "1. The data points are fairly evenly distributed and tend to cluster around the middle of the plot (aside from some extreme outliers on the bottom of the plot)\n",
        "2. The data points are fairly clustered around the zero line, indicating there are many more accurate predictions than inaccurate predictions.\n",
        "3. There is no recognizable trend. If there were, the model could potentially be missing a higher-order variable."
      ]
    },
    {
      "cell_type": "markdown",
      "metadata": {
        "collapsed": false,
        "id": "eoRshec1c4X-",
        "colab_type": "text"
      },
      "source": [
        "### 6. Further Refinement of the Linear Regression Model"
      ]
    },
    {
      "cell_type": "markdown",
      "metadata": {
        "collapsed": false,
        "id": "t5iqV6pMc4X_",
        "colab_type": "text"
      },
      "source": [
        "For this refinement, we will run a linear regression model on the data again but this time without the  `Type` feature."
      ]
    },
    {
      "cell_type": "code",
      "metadata": {
        "id": "YeECSCH7c4X_",
        "colab_type": "code",
        "outputId": "242f0300-726f-4cf9-8b06-973f42b7b23b",
        "colab": {
          "base_uri": "https://localhost:8080/",
          "height": 34
        }
      },
      "source": [
        "google5['Type'].value_counts()\n",
        "free_percentage = google5[google5['Type']==\"Free\"]['Type'].count()/google5['Type'].size\n",
        "print(\"Percentage of apps that are free: \" + str(free_percentage))"
      ],
      "execution_count": 0,
      "outputs": [
        {
          "output_type": "stream",
          "text": [
            "Percentage of apps that are free: 0.9262559241706161\n"
          ],
          "name": "stdout"
        }
      ]
    },
    {
      "cell_type": "markdown",
      "metadata": {
        "collapsed": false,
        "id": "3RE_SCZyc4YB",
        "colab_type": "text"
      },
      "source": [
        "As above, you can see that 92.63% of Google Play Store apps are free. As a result, this feature might be insignificant or even confusing for the model's training process. For the next linear regression model, we will remove the `Type` feature to see if the model will improve."
      ]
    },
    {
      "cell_type": "code",
      "metadata": {
        "id": "D7qvP4ySc4YB",
        "colab_type": "code",
        "colab": {}
      },
      "source": [
        "cols2 = ['Category','Installs','Content_Rating','Reviews','Size']\n",
        "X2 = google5[cols2]\n",
        "y2 = google5.Rating"
      ],
      "execution_count": 0,
      "outputs": []
    },
    {
      "cell_type": "markdown",
      "metadata": {
        "collapsed": false,
        "id": "EgBdsaQ3c4YQ",
        "colab_type": "text"
      },
      "source": [
        "Next, we will split X and y into training and testing sets, which will be called by our machine learning model."
      ]
    },
    {
      "cell_type": "code",
      "metadata": {
        "id": "1E0lNzC_c4YR",
        "colab_type": "code",
        "outputId": "7eec1f86-fa0f-49a7-a7e0-73f94656aef2",
        "colab": {
          "base_uri": "https://localhost:8080/",
          "height": 51
        }
      },
      "source": [
        "# split X and y into training and testing sets\n",
        "X_train2, X_test2, y_train2, y_test2 = train_test_split(X2, y2, random_state=0)\n",
        "\n",
        "print(X_train2.shape, y_train2.shape)\n",
        "print(X_test2.shape, y_test2.shape)"
      ],
      "execution_count": 0,
      "outputs": [
        {
          "output_type": "stream",
          "text": [
            "(7912, 5) (7912,)\n",
            "(2638, 5) (2638,)\n"
          ],
          "name": "stdout"
        }
      ]
    },
    {
      "cell_type": "markdown",
      "metadata": {
        "collapsed": false,
        "id": "TsouS5sGc4YS",
        "colab_type": "text"
      },
      "source": [
        "Now we set up a column transformer using OneHotEncoding for Category, Installs, and Content_Rating."
      ]
    },
    {
      "cell_type": "code",
      "metadata": {
        "id": "E0mfg_Bfc4YT",
        "colab_type": "code",
        "colab": {}
      },
      "source": [
        "ohe2 = OneHotEncoder(sparse=False,handle_unknown='ignore')\n",
        "ct2 = make_column_transformer(\n",
        "    (ohe2, ['Category', 'Installs', 'Content_Rating']),\n",
        "    remainder = 'passthrough'\n",
        ")"
      ],
      "execution_count": 0,
      "outputs": []
    },
    {
      "cell_type": "markdown",
      "metadata": {
        "collapsed": false,
        "id": "Wq6vfUaPc4YU",
        "colab_type": "text"
      },
      "source": [
        "Next, we will set up the pipeline to run our linear regression model using the column transformer."
      ]
    },
    {
      "cell_type": "code",
      "metadata": {
        "id": "A9G6wH_Zc4YU",
        "colab_type": "code",
        "outputId": "6314a3d8-d703-45fa-ef4f-18be1e8e3d8c",
        "colab": {
          "base_uri": "https://localhost:8080/",
          "height": 34
        }
      },
      "source": [
        "lnr2 = LinearRegression()\n",
        "p2 = make_pipeline(ct2, lnr2)\n",
        "score2 = cross_val_score(p2, X2, y2, cv=5, scoring='neg_root_mean_squared_error')\n",
        "score2.mean()"
      ],
      "execution_count": 0,
      "outputs": [
        {
          "output_type": "execute_result",
          "data": {
            "text/plain": [
              "-0.3627144081681478"
            ]
          },
          "metadata": {
            "tags": []
          },
          "execution_count": 53
        }
      ]
    },
    {
      "cell_type": "markdown",
      "metadata": {
        "collapsed": false,
        "id": "ysN3HrEJc4YW",
        "colab_type": "text"
      },
      "source": [
        "Since the RMSE is 0.3627, which is marginally higher than the RMSE of the original linear regression model (0.3620), this means that this linear regression line is slightly less accurate in predicting an app's rating. This confirms the hypothesis that `Type` is not a very significant feature for our model, but still, removing the `Type` feature actually causes a decrease in performance of our model."
      ]
    },
    {
      "cell_type": "markdown",
      "metadata": {
        "collapsed": false,
        "id": "qLn_O79Yc4YX",
        "colab_type": "text"
      },
      "source": [
        "### 7. Training New Models"
      ]
    },
    {
      "cell_type": "markdown",
      "metadata": {
        "collapsed": false,
        "id": "FM9q2Al1c4YX",
        "colab_type": "text"
      },
      "source": [
        "Here, we will experiment with variations of the Linear Regression model to see which produces the lowest root mean squared error."
      ]
    },
    {
      "cell_type": "markdown",
      "metadata": {
        "collapsed": false,
        "id": "bADws5-Hc4YX",
        "colab_type": "text"
      },
      "source": [
        "First, we will experiment with the Lasso model. This model, unlike the basic Linear Regression model, will penalize the model for the sum of the absolute value of its weights. The basic Linear Regression does not penalize weights, potentially leading to an overfitting of the model on the dataset."
      ]
    },
    {
      "cell_type": "code",
      "metadata": {
        "id": "bd1Hc5M_c4Ya",
        "colab_type": "code",
        "outputId": "e3c05b16-f305-4095-fa2e-addb8d177882",
        "colab": {
          "base_uri": "https://localhost:8080/",
          "height": 34
        }
      },
      "source": [
        "from sklearn.linear_model import Lasso\n",
        "las = Lasso()\n",
        "p3 = make_pipeline(ct, las)\n",
        "score3 = cross_val_score(p3, X, y, cv=5, scoring='neg_root_mean_squared_error')\n",
        "score3.mean()"
      ],
      "execution_count": 0,
      "outputs": [
        {
          "output_type": "execute_result",
          "data": {
            "text/plain": [
              "-0.36770997125566374"
            ]
          },
          "metadata": {
            "tags": []
          },
          "execution_count": 54
        }
      ]
    },
    {
      "cell_type": "markdown",
      "metadata": {
        "collapsed": false,
        "id": "NRhjnBuwc4Yc",
        "colab_type": "text"
      },
      "source": [
        "The RMSE is 0.3677, which is worse than the RMSE of 0.3620 from the basic Linear Regression model above in Section 4. Below, we try tuning the Lasso model by modifying the alpha parameter. The alpha parameter is a constant applied to the absolute value of its weights."
      ]
    },
    {
      "cell_type": "code",
      "metadata": {
        "id": "TAkHLU9oc4Ye",
        "colab_type": "code",
        "outputId": "3b8728b8-0be9-4e36-8c4a-2b2f9017ae72",
        "colab": {
          "base_uri": "https://localhost:8080/",
          "height": 34
        }
      },
      "source": [
        "# lower alpha value\n",
        "las1 = Lasso(alpha=0.1)\n",
        "p4 = make_pipeline(ct, las1)\n",
        "score4 = cross_val_score(p4, X, y, cv=5, scoring='neg_root_mean_squared_error')\n",
        "score4.mean()"
      ],
      "execution_count": 0,
      "outputs": [
        {
          "output_type": "execute_result",
          "data": {
            "text/plain": [
              "-0.367549761717825"
            ]
          },
          "metadata": {
            "tags": []
          },
          "execution_count": 55
        }
      ]
    },
    {
      "cell_type": "code",
      "metadata": {
        "id": "WYWCpPOzc4Yh",
        "colab_type": "code",
        "outputId": "a9d5d5f0-8318-4d66-afd2-5bbaad1e0410",
        "colab": {
          "base_uri": "https://localhost:8080/",
          "height": 34
        }
      },
      "source": [
        "# moderate alpha value\n",
        "las2 = Lasso(alpha=2.0)\n",
        "p5 = make_pipeline(ct, las2)\n",
        "score5 = cross_val_score(p5, X, y, cv=5, scoring='neg_root_mean_squared_error')\n",
        "score5.mean()"
      ],
      "execution_count": 0,
      "outputs": [
        {
          "output_type": "execute_result",
          "data": {
            "text/plain": [
              "-0.3677216712778287"
            ]
          },
          "metadata": {
            "tags": []
          },
          "execution_count": 56
        }
      ]
    },
    {
      "cell_type": "code",
      "metadata": {
        "id": "fPbXym2wc4Yj",
        "colab_type": "code",
        "outputId": "7ca68c83-711b-465e-958f-12eac3928a4e",
        "colab": {
          "base_uri": "https://localhost:8080/",
          "height": 34
        }
      },
      "source": [
        "# very high alpha value\n",
        "las3 = Lasso(alpha=10.0)\n",
        "p6 = make_pipeline(ct, las3)\n",
        "score6 = cross_val_score(p6, X, y, cv=5, scoring='neg_root_mean_squared_error')\n",
        "score6.mean()"
      ],
      "execution_count": 0,
      "outputs": [
        {
          "output_type": "execute_result",
          "data": {
            "text/plain": [
              "-0.3677215482850573"
            ]
          },
          "metadata": {
            "tags": []
          },
          "execution_count": 57
        }
      ]
    },
    {
      "cell_type": "markdown",
      "metadata": {
        "collapsed": false,
        "id": "zd-OXPQ0c4Yn",
        "colab_type": "text"
      },
      "source": [
        "We see that with a lower alpha value, the RMSE becomes slightly lower, towards that of the basic Linear Regression model. This means that the basic Linear Regression model is preferred, which essentially has an alpha value of 0."
      ]
    },
    {
      "cell_type": "markdown",
      "metadata": {
        "collapsed": false,
        "id": "su2aP8lAc4Yn",
        "colab_type": "text"
      },
      "source": [
        "Second, we will experiment with the Ridge model. This model penalizes the model for the sum of squared value of its weights. "
      ]
    },
    {
      "cell_type": "code",
      "metadata": {
        "id": "UsQvScb7c4Yo",
        "colab_type": "code",
        "outputId": "977f5552-27c7-43c1-d5e3-199514df2462",
        "colab": {
          "base_uri": "https://localhost:8080/",
          "height": 34
        }
      },
      "source": [
        "from sklearn.linear_model import Ridge\n",
        "rid = Ridge()\n",
        "p7 = make_pipeline(ct, rid)\n",
        "score7 = cross_val_score(p7, X, y, cv=5, scoring='neg_root_mean_squared_error')\n",
        "score7.mean()"
      ],
      "execution_count": 0,
      "outputs": [
        {
          "output_type": "execute_result",
          "data": {
            "text/plain": [
              "-0.36159426005240647"
            ]
          },
          "metadata": {
            "tags": []
          },
          "execution_count": 58
        }
      ]
    },
    {
      "cell_type": "markdown",
      "metadata": {
        "collapsed": false,
        "id": "M47OZk_fc4Ys",
        "colab_type": "text"
      },
      "source": [
        "The RMSE is 0.3616, which is marginally better than the RMSE of the basic Linear Regression model. We will try tuning the Ridge model's alpha parameter, which is the constant applied to the squared value of its weights."
      ]
    },
    {
      "cell_type": "code",
      "metadata": {
        "id": "c18ruczGc4Ys",
        "colab_type": "code",
        "outputId": "6e85cdd5-feeb-4423-801f-97763a77ba54",
        "colab": {
          "base_uri": "https://localhost:8080/",
          "height": 34
        }
      },
      "source": [
        "# lower alpha value\n",
        "rid1 = Ridge(alpha=0.1)\n",
        "p8 = make_pipeline(ct, rid1)\n",
        "score8 = cross_val_score(p8, X, y, cv=5, scoring='neg_root_mean_squared_error')\n",
        "score8.mean()"
      ],
      "execution_count": 0,
      "outputs": [
        {
          "output_type": "execute_result",
          "data": {
            "text/plain": [
              "-0.36196040829427945"
            ]
          },
          "metadata": {
            "tags": []
          },
          "execution_count": 59
        }
      ]
    },
    {
      "cell_type": "code",
      "metadata": {
        "id": "NpuZ_pZ_c4Yu",
        "colab_type": "code",
        "outputId": "f3a25db8-2cf7-4f78-ab60-fc9d50a342cf",
        "colab": {
          "base_uri": "https://localhost:8080/",
          "height": 34
        }
      },
      "source": [
        "# moderate alpha value\n",
        "rid2 = Ridge(alpha=2.0)\n",
        "p9 = make_pipeline(ct, rid2)\n",
        "score9 = cross_val_score(p9, X, y, cv=5, scoring='neg_root_mean_squared_error')\n",
        "score9.mean()"
      ],
      "execution_count": 0,
      "outputs": [
        {
          "output_type": "execute_result",
          "data": {
            "text/plain": [
              "-0.3612703364666974"
            ]
          },
          "metadata": {
            "tags": []
          },
          "execution_count": 60
        }
      ]
    },
    {
      "cell_type": "code",
      "metadata": {
        "id": "fX3ttrQGc4Yw",
        "colab_type": "code",
        "outputId": "ff78b490-9154-461f-929a-312241884ee3",
        "colab": {
          "base_uri": "https://localhost:8080/",
          "height": 34
        }
      },
      "source": [
        "# very high alpha value\n",
        "rid3 = Ridge(alpha=10.0)\n",
        "p10 = make_pipeline(ct, rid3)\n",
        "score10 = cross_val_score(p10, X, y, cv=5, scoring='neg_root_mean_squared_error')\n",
        "score10.mean()"
      ],
      "execution_count": 0,
      "outputs": [
        {
          "output_type": "execute_result",
          "data": {
            "text/plain": [
              "-0.3600544826766253"
            ]
          },
          "metadata": {
            "tags": []
          },
          "execution_count": 61
        }
      ]
    },
    {
      "cell_type": "markdown",
      "metadata": {
        "collapsed": false,
        "id": "qcGw299mc4Yx",
        "colab_type": "text"
      },
      "source": [
        "We see that when we use a very high alpha value, we achieve a RMSE of 0.3601. We are able to improve the RMSE to be better than the basic Linear Regression model."
      ]
    },
    {
      "cell_type": "markdown",
      "metadata": {
        "id": "65GVWgFufRpD",
        "colab_type": "text"
      },
      "source": [
        "### 8. Predicting Rating with the new Ridge model"
      ]
    },
    {
      "cell_type": "markdown",
      "metadata": {
        "collapsed": false,
        "id": "rSaZcRnic4Yx",
        "colab_type": "text"
      },
      "source": [
        "Let's try predicting rating with the Ridge model of an alpha value of 10.0."
      ]
    },
    {
      "cell_type": "code",
      "metadata": {
        "id": "ThJlNpbtc4Yy",
        "colab_type": "code",
        "outputId": "431e9dc6-7aef-4c7d-d25e-af6fa0cce0c0",
        "colab": {
          "base_uri": "https://localhost:8080/",
          "height": 340
        }
      },
      "source": [
        "p10.fit(X_train, y_train)"
      ],
      "execution_count": 0,
      "outputs": [
        {
          "output_type": "execute_result",
          "data": {
            "text/plain": [
              "Pipeline(memory=None,\n",
              "         steps=[('columntransformer',\n",
              "                 ColumnTransformer(n_jobs=None, remainder='passthrough',\n",
              "                                   sparse_threshold=0.3,\n",
              "                                   transformer_weights=None,\n",
              "                                   transformers=[('onehotencoder',\n",
              "                                                  OneHotEncoder(categories='auto',\n",
              "                                                                drop=None,\n",
              "                                                                dtype=<class 'numpy.float64'>,\n",
              "                                                                handle_unknown='ignore',\n",
              "                                                                sparse=False),\n",
              "                                                  ['Category', 'Installs',\n",
              "                                                   'Content_Rating', 'Type'])],\n",
              "                                   verbose=False)),\n",
              "                ('ridge',\n",
              "                 Ridge(alpha=10.0, copy_X=True, fit_intercept=True,\n",
              "                       max_iter=None, normalize=False, random_state=None,\n",
              "                       solver='auto', tol=0.001))],\n",
              "         verbose=False)"
            ]
          },
          "metadata": {
            "tags": []
          },
          "execution_count": 62
        }
      ]
    },
    {
      "cell_type": "markdown",
      "metadata": {
        "collapsed": false,
        "id": "1qq3Y0Efc4Yz",
        "colab_type": "text"
      },
      "source": [
        "Below, we see a dataframe of an app's actual rating compared to its predicted rating."
      ]
    },
    {
      "cell_type": "code",
      "metadata": {
        "id": "PirvbpJKc4Yz",
        "colab_type": "code",
        "outputId": "3bdfb31f-d348-4765-9c56-adac0edac9a7",
        "colab": {
          "base_uri": "https://localhost:8080/",
          "height": 419
        }
      },
      "source": [
        "y_pred10 = p10.predict(X_test)\n",
        "comparison_df1 = pd.DataFrame({'Actual': y_test, 'Predicted': y_pred10})\n",
        "comparison_df1['Residuals'] = comparison_df1['Actual'] - comparison_df1['Predicted']\n",
        "comparison_df1"
      ],
      "execution_count": 0,
      "outputs": [
        {
          "output_type": "execute_result",
          "data": {
            "text/html": [
              "<div>\n",
              "<style scoped>\n",
              "    .dataframe tbody tr th:only-of-type {\n",
              "        vertical-align: middle;\n",
              "    }\n",
              "\n",
              "    .dataframe tbody tr th {\n",
              "        vertical-align: top;\n",
              "    }\n",
              "\n",
              "    .dataframe thead th {\n",
              "        text-align: right;\n",
              "    }\n",
              "</style>\n",
              "<table border=\"1\" class=\"dataframe\">\n",
              "  <thead>\n",
              "    <tr style=\"text-align: right;\">\n",
              "      <th></th>\n",
              "      <th>Actual</th>\n",
              "      <th>Predicted</th>\n",
              "      <th>Residuals</th>\n",
              "    </tr>\n",
              "  </thead>\n",
              "  <tbody>\n",
              "    <tr>\n",
              "      <th>272</th>\n",
              "      <td>4.3</td>\n",
              "      <td>4.203189</td>\n",
              "      <td>0.096811</td>\n",
              "    </tr>\n",
              "    <tr>\n",
              "      <th>4384</th>\n",
              "      <td>3.8</td>\n",
              "      <td>4.221516</td>\n",
              "      <td>-0.421516</td>\n",
              "    </tr>\n",
              "    <tr>\n",
              "      <th>3368</th>\n",
              "      <td>4.3</td>\n",
              "      <td>4.367520</td>\n",
              "      <td>-0.067520</td>\n",
              "    </tr>\n",
              "    <tr>\n",
              "      <th>7073</th>\n",
              "      <td>4.2</td>\n",
              "      <td>4.309283</td>\n",
              "      <td>-0.109283</td>\n",
              "    </tr>\n",
              "    <tr>\n",
              "      <th>3867</th>\n",
              "      <td>3.5</td>\n",
              "      <td>4.126899</td>\n",
              "      <td>-0.626899</td>\n",
              "    </tr>\n",
              "    <tr>\n",
              "      <th>...</th>\n",
              "      <td>...</td>\n",
              "      <td>...</td>\n",
              "      <td>...</td>\n",
              "    </tr>\n",
              "    <tr>\n",
              "      <th>7433</th>\n",
              "      <td>5.0</td>\n",
              "      <td>4.452726</td>\n",
              "      <td>0.547274</td>\n",
              "    </tr>\n",
              "    <tr>\n",
              "      <th>9428</th>\n",
              "      <td>4.5</td>\n",
              "      <td>4.231336</td>\n",
              "      <td>0.268664</td>\n",
              "    </tr>\n",
              "    <tr>\n",
              "      <th>10349</th>\n",
              "      <td>5.0</td>\n",
              "      <td>4.441432</td>\n",
              "      <td>0.558568</td>\n",
              "    </tr>\n",
              "    <tr>\n",
              "      <th>5538</th>\n",
              "      <td>4.4</td>\n",
              "      <td>4.174033</td>\n",
              "      <td>0.225967</td>\n",
              "    </tr>\n",
              "    <tr>\n",
              "      <th>1471</th>\n",
              "      <td>4.7</td>\n",
              "      <td>4.121721</td>\n",
              "      <td>0.578279</td>\n",
              "    </tr>\n",
              "  </tbody>\n",
              "</table>\n",
              "<p>2638 rows × 3 columns</p>\n",
              "</div>"
            ],
            "text/plain": [
              "       Actual  Predicted  Residuals\n",
              "272       4.3   4.203189   0.096811\n",
              "4384      3.8   4.221516  -0.421516\n",
              "3368      4.3   4.367520  -0.067520\n",
              "7073      4.2   4.309283  -0.109283\n",
              "3867      3.5   4.126899  -0.626899\n",
              "...       ...        ...        ...\n",
              "7433      5.0   4.452726   0.547274\n",
              "9428      4.5   4.231336   0.268664\n",
              "10349     5.0   4.441432   0.558568\n",
              "5538      4.4   4.174033   0.225967\n",
              "1471      4.7   4.121721   0.578279\n",
              "\n",
              "[2638 rows x 3 columns]"
            ]
          },
          "metadata": {
            "tags": []
          },
          "execution_count": 63
        }
      ]
    },
    {
      "cell_type": "markdown",
      "metadata": {
        "collapsed": false,
        "id": "9flzpNlqc4Y5",
        "colab_type": "text"
      },
      "source": [
        "Let's plot the predicted rating against its residual with a zero line to see how good of a fit our linear regression model is."
      ]
    },
    {
      "cell_type": "code",
      "metadata": {
        "id": "9wwtxLzvc4Y5",
        "colab_type": "code",
        "outputId": "758489d1-fe52-4e44-f4c8-b6827557ecf1",
        "colab": {
          "base_uri": "https://localhost:8080/",
          "height": 295
        }
      },
      "source": [
        "plt.scatter(comparison_df1['Predicted'], comparison_df1['Residuals'], color='blue',s=5)\n",
        "plt.xlabel(\"Predicted Rating\")\n",
        "plt.ylabel(\"Residual (Actual - Predicted)\")\n",
        "plt.title(\"Very similar residual plot to the Linear Regression model\")\n",
        "plt.axhline(color='red')\n",
        "plt.show()"
      ],
      "execution_count": 0,
      "outputs": [
        {
          "output_type": "display_data",
          "data": {
            "image/png": "[encoded data removed]",
            "text/plain": [
              "<Figure size 432x288 with 1 Axes>"
            ]
          },
          "metadata": {
            "tags": [],
            "needs_background": "light"
          }
        }
      ]
    },
    {
      "cell_type": "markdown",
      "metadata": {
        "collapsed": false,
        "id": "l_70Thcqc4Y8",
        "colab_type": "text"
      },
      "source": [
        "Given that the Ridge model with an alpha value of 10.0 produces a slightly better but still very similar RMSE to the basic Linear Regression model, it is expected that its residual plot should also be very similar."
      ]
    },
    {
      "cell_type": "markdown",
      "metadata": {
        "collapsed": false,
        "id": "bdkZ2SA7c4Y8",
        "colab_type": "text"
      },
      "source": [
        "### 9. Reflection"
      ]
    },
    {
      "cell_type": "markdown",
      "metadata": {
        "collapsed": false,
        "id": "ThGVWQkLc4Y9",
        "colab_type": "text"
      },
      "source": [
        "For this project, our feature selection was as follows: Category, Number of Installs, Content Audience Rating, Number of Reviews, Size of App, Free or Paid.\n",
        "\n",
        "A significant portion of this project consisted of data cleaning. To make sure that the test and train sets did not have null values, we replaced null values with the mean of its column. Furthermore, feature engineering was an important aspect of this project as well. Of the above features that we cared about, Category, Content Audience Rating, and Free or Paid were categorical features. This necessitated utilizing One-Hot Encoding to transform these features into boolean 1's and 0's.\n",
        "\n",
        "Through EDA, one of the difficulties of accurately predicting a phone app's rating using our feature selection that we found was that rating is not strongly correlated to the other quantitative attributes. As demonstrated by the Pearson Coefficient, the Number of Installs, Number of Reviews, and Size of App were extremely weak indicators of an app's rating.\n",
        "\n",
        "Although all the features (except for the rating itself) are proxies for determining the rating, some features could naturally be more telling than others. For example, if the dataset included the written review that came with the rating, we could explore sentiment analysis and how it might affect rating. Perhaps another step that we could take for future analysis is further experimenting with the scaling of features to normalize the dataset even more."
      ]
    }
  ]
}